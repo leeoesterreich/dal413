{
 "cells": [
  {
   "cell_type": "code",
   "execution_count": 2,
   "id": "fc8cf4ac-43fd-4d96-92a1-943ec1b9a79c",
   "metadata": {
    "collapsed": true,
    "jupyter": {
     "outputs_hidden": true
    },
    "tags": []
   },
   "outputs": [
    {
     "name": "stdout",
     "output_type": "stream",
     "text": [
      "Defaulting to user installation because normal site-packages is not writeable\n",
      "Collecting gseapy\n",
      "  Obtaining dependency information for gseapy from https://files.pythonhosted.org/packages/b4/40/f110b321d9454ecdd9efae7d01a27628fb3f3521c212b993dfa52a1cb66d/gseapy-1.1.5-cp311-cp311-manylinux_2_17_x86_64.manylinux2014_x86_64.whl.metadata\n",
      "  Downloading gseapy-1.1.5-cp311-cp311-manylinux_2_17_x86_64.manylinux2014_x86_64.whl.metadata (11 kB)\n",
      "Requirement already satisfied: numpy>=1.13.0 in /ihome/crc/install/python/ondemand-jupyter-python3.11-2023.09/lib/python3.11/site-packages (from gseapy) (1.26.4)\n",
      "Requirement already satisfied: scipy in /ihome/alee/dal413/.local/lib/python3.11/site-packages (from gseapy) (1.14.1)\n",
      "Requirement already satisfied: pandas in /ihome/alee/dal413/.local/lib/python3.11/site-packages (from gseapy) (1.5.3)\n",
      "Requirement already satisfied: matplotlib>=2.2 in /ihome/crc/install/python/ondemand-jupyter-python3.11-2023.09/lib/python3.11/site-packages (from gseapy) (3.7.2)\n",
      "Requirement already satisfied: requests in /ihome/crc/install/python/ondemand-jupyter-python3.11-2023.09/lib/python3.11/site-packages (from gseapy) (2.31.0)\n",
      "Requirement already satisfied: contourpy>=1.0.1 in /ihome/crc/install/python/ondemand-jupyter-python3.11-2023.09/lib/python3.11/site-packages (from matplotlib>=2.2->gseapy) (1.0.5)\n",
      "Requirement already satisfied: cycler>=0.10 in /ihome/crc/install/python/ondemand-jupyter-python3.11-2023.09/lib/python3.11/site-packages (from matplotlib>=2.2->gseapy) (0.11.0)\n",
      "Requirement already satisfied: fonttools>=4.22.0 in /ihome/crc/install/python/ondemand-jupyter-python3.11-2023.09/lib/python3.11/site-packages (from matplotlib>=2.2->gseapy) (4.25.0)\n",
      "Requirement already satisfied: kiwisolver>=1.0.1 in /ihome/crc/install/python/ondemand-jupyter-python3.11-2023.09/lib/python3.11/site-packages (from matplotlib>=2.2->gseapy) (1.4.4)\n",
      "Requirement already satisfied: packaging>=20.0 in /ihome/crc/install/python/ondemand-jupyter-python3.11-2023.09/lib/python3.11/site-packages (from matplotlib>=2.2->gseapy) (23.1)\n",
      "Requirement already satisfied: pillow>=6.2.0 in /ihome/alee/dal413/.local/lib/python3.11/site-packages (from matplotlib>=2.2->gseapy) (11.1.0)\n",
      "Requirement already satisfied: pyparsing<3.1,>=2.3.1 in /ihome/crc/install/python/ondemand-jupyter-python3.11-2023.09/lib/python3.11/site-packages (from matplotlib>=2.2->gseapy) (3.0.9)\n",
      "Requirement already satisfied: python-dateutil>=2.7 in /ihome/crc/install/python/ondemand-jupyter-python3.11-2023.09/lib/python3.11/site-packages (from matplotlib>=2.2->gseapy) (2.8.2)\n",
      "Requirement already satisfied: pytz>=2020.1 in /ihome/crc/install/python/ondemand-jupyter-python3.11-2023.09/lib/python3.11/site-packages (from pandas->gseapy) (2023.3.post1)\n",
      "Requirement already satisfied: charset-normalizer<4,>=2 in /ihome/crc/install/python/ondemand-jupyter-python3.11-2023.09/lib/python3.11/site-packages (from requests->gseapy) (2.0.4)\n",
      "Requirement already satisfied: idna<4,>=2.5 in /ihome/crc/install/python/ondemand-jupyter-python3.11-2023.09/lib/python3.11/site-packages (from requests->gseapy) (3.4)\n",
      "Requirement already satisfied: urllib3<3,>=1.21.1 in /ihome/crc/install/python/ondemand-jupyter-python3.11-2023.09/lib/python3.11/site-packages (from requests->gseapy) (1.26.16)\n",
      "Requirement already satisfied: certifi>=2017.4.17 in /ihome/crc/install/python/ondemand-jupyter-python3.11-2023.09/lib/python3.11/site-packages (from requests->gseapy) (2023.7.22)\n",
      "Requirement already satisfied: six>=1.5 in /ihome/crc/install/python/ondemand-jupyter-python3.11-2023.09/lib/python3.11/site-packages (from python-dateutil>=2.7->matplotlib>=2.2->gseapy) (1.16.0)\n",
      "Downloading gseapy-1.1.5-cp311-cp311-manylinux_2_17_x86_64.manylinux2014_x86_64.whl (549 kB)\n",
      "\u001b[2K   \u001b[90m━━━━━━━━━━━━━━━━━━━━━━━━━━━━━━━━━━━━━━━━\u001b[0m \u001b[32m549.2/549.2 kB\u001b[0m \u001b[31m11.3 MB/s\u001b[0m eta \u001b[36m0:00:00\u001b[0m00:01\u001b[0m\n",
      "\u001b[?25hInstalling collected packages: gseapy\n",
      "Successfully installed gseapy-1.1.5\n",
      "Note: you may need to restart the kernel to use updated packages.\n"
     ]
    }
   ],
   "source": [
    "pip install gseapy"
   ]
  },
  {
   "cell_type": "code",
   "execution_count": 3,
   "id": "a7cadf6b-c080-4437-be51-2813b930bff1",
   "metadata": {
    "tags": []
   },
   "outputs": [],
   "source": [
    "# %matplotlib inline\n",
    "# %config InlineBackend.figure_format='retina' # mac\n",
    "%load_ext autoreload\n",
    "%autoreload 2\n",
    "import pandas as pd\n",
    "import gseapy as gp\n",
    "import matplotlib.pyplot as plt"
   ]
  },
  {
   "cell_type": "code",
   "execution_count": 4,
   "id": "dd32de9c-0f0e-4c05-9a62-b555c920745c",
   "metadata": {
    "tags": []
   },
   "outputs": [
    {
     "data": {
      "text/plain": [
       "'1.1.5'"
      ]
     },
     "execution_count": 4,
     "metadata": {},
     "output_type": "execute_result"
    }
   ],
   "source": [
    "gp.__version__"
   ]
  },
  {
   "cell_type": "code",
   "execution_count": 5,
   "id": "1d13d810-b196-4593-995f-c2c371f4a7a0",
   "metadata": {
    "tags": []
   },
   "outputs": [],
   "source": [
    "from gseapy import Biomart\n",
    "bm = Biomart()"
   ]
  },
  {
   "cell_type": "code",
   "execution_count": 13,
   "id": "e64a398d-f1f8-45f8-a6e0-8370aea2e505",
   "metadata": {
    "tags": []
   },
   "outputs": [
    {
     "data": {
      "text/html": [
       "<div>\n",
       "<style scoped>\n",
       "    .dataframe tbody tr th:only-of-type {\n",
       "        vertical-align: middle;\n",
       "    }\n",
       "\n",
       "    .dataframe tbody tr th {\n",
       "        vertical-align: top;\n",
       "    }\n",
       "\n",
       "    .dataframe thead th {\n",
       "        text-align: right;\n",
       "    }\n",
       "</style>\n",
       "<table border=\"1\" class=\"dataframe\">\n",
       "  <thead>\n",
       "    <tr style=\"text-align: right;\">\n",
       "      <th></th>\n",
       "      <th>ensembl_gene_id</th>\n",
       "      <th>external_gene_name</th>\n",
       "      <th>entrezgene_id</th>\n",
       "      <th>go_id</th>\n",
       "    </tr>\n",
       "  </thead>\n",
       "  <tbody>\n",
       "    <tr>\n",
       "      <th>135</th>\n",
       "      <td>ENSMUSG00000030265</td>\n",
       "      <td>Kras</td>\n",
       "      <td>16653</td>\n",
       "      <td>GO:0060509</td>\n",
       "    </tr>\n",
       "    <tr>\n",
       "      <th>136</th>\n",
       "      <td>ENSMUSG00000030265</td>\n",
       "      <td>Kras</td>\n",
       "      <td>16653</td>\n",
       "      <td>GO:0021897</td>\n",
       "    </tr>\n",
       "    <tr>\n",
       "      <th>137</th>\n",
       "      <td>ENSMUSG00000030265</td>\n",
       "      <td>Kras</td>\n",
       "      <td>16653</td>\n",
       "      <td>GO:0019002</td>\n",
       "    </tr>\n",
       "    <tr>\n",
       "      <th>138</th>\n",
       "      <td>ENSMUSG00000030265</td>\n",
       "      <td>Kras</td>\n",
       "      <td>16653</td>\n",
       "      <td>GO:0030275</td>\n",
       "    </tr>\n",
       "    <tr>\n",
       "      <th>139</th>\n",
       "      <td>ENSMUSG00000030265</td>\n",
       "      <td>Kras</td>\n",
       "      <td>16653</td>\n",
       "      <td>NaN</td>\n",
       "    </tr>\n",
       "  </tbody>\n",
       "</table>\n",
       "</div>"
      ],
      "text/plain": [
       "        ensembl_gene_id external_gene_name  entrezgene_id       go_id\n",
       "135  ENSMUSG00000030265               Kras          16653  GO:0060509\n",
       "136  ENSMUSG00000030265               Kras          16653  GO:0021897\n",
       "137  ENSMUSG00000030265               Kras          16653  GO:0019002\n",
       "138  ENSMUSG00000030265               Kras          16653  GO:0030275\n",
       "139  ENSMUSG00000030265               Kras          16653         NaN"
      ]
     },
     "execution_count": 13,
     "metadata": {},
     "output_type": "execute_result"
    }
   ],
   "source": [
    "## view validated marts\n",
    "# marts = bm.get_marts()\n",
    "## view validated dataset\n",
    "# datasets = bm.get_datasets(mart='ENSEMBL_MART_ENSEMBL')\n",
    "## view validated attributes\n",
    "# attrs = bm.get_attributes(dataset='mmusculus_gene_ensembl')\n",
    "## view validated filters\n",
    "# filters = bm.get_filters(dataset='mmusculus_gene_ensembl')\n",
    "## query results\n",
    "queries ={'ensembl_gene_id': ['ENSMUSG00000019768','ENSMUSG00000030265'] } # need to be a dict object\n",
    "results = bm.query(dataset='mmusculus_gene_ensembl',\n",
    "                   attributes=['ensembl_gene_id', 'external_gene_name', 'entrezgene_id', 'go_id'],\n",
    "                   filters=queries)\n",
    "results.tail()"
   ]
  },
  {
   "cell_type": "code",
   "execution_count": 7,
   "id": "74f544f9-05a9-46e8-afe1-82662b9a4fb6",
   "metadata": {
    "tags": []
   },
   "outputs": [
    {
     "data": {
      "text/plain": [
       "ensembl_gene_id       object\n",
       "external_gene_name    object\n",
       "entrezgene_id          Int32\n",
       "go_id                 object\n",
       "dtype: object"
      ]
     },
     "execution_count": 7,
     "metadata": {},
     "output_type": "execute_result"
    }
   ],
   "source": [
    "results.dtypes"
   ]
  },
  {
   "cell_type": "code",
   "execution_count": 10,
   "id": "7ccf02eb-67be-4e67-b9b2-42ada0b06485",
   "metadata": {
    "tags": []
   },
   "outputs": [],
   "source": [
    "from gseapy import Biomart\n",
    "bm = Biomart(host='useast.ensembl.org')\n",
    "# note the dataset and attribute names are different\n",
    "m2h = bm.query(dataset='mmusculus_gene_ensembl', \n",
    "               attributes=['ensembl_gene_id','external_gene_name',\n",
    "                           'hsapiens_homolog_ensembl_gene',\n",
    "                           'hsapiens_homolog_associated_gene_name'])\n",
    "\n",
    "h2m = bm.query(dataset='hsapiens_gene_ensembl',\n",
    "               attributes=['ensembl_gene_id','external_gene_name',\n",
    "                           'mmusculus_homolog_ensembl_gene',\n",
    "                           'mmusculus_homolog_associated_gene_name'])"
   ]
  },
  {
   "cell_type": "code",
   "execution_count": 11,
   "id": "3b24a99f-a580-4724-bc38-f92a6e3468b3",
   "metadata": {
    "tags": []
   },
   "outputs": [],
   "source": [
    "# h2m.sample(10)"
   ]
  },
  {
   "cell_type": "code",
   "execution_count": 12,
   "id": "00e56c9b-af0d-46d9-8a50-b81f00e67eee",
   "metadata": {
    "collapsed": true,
    "jupyter": {
     "outputs_hidden": true
    },
    "tags": []
   },
   "outputs": [
    {
     "ename": "FileNotFoundError",
     "evalue": "[Errno 2] No such file or directory: 'tests/extdata/enrichr.KEGG_2016.gmt'",
     "output_type": "error",
     "traceback": [
      "\u001b[0;31m---------------------------------------------------------------------------\u001b[0m",
      "\u001b[0;31mFileNotFoundError\u001b[0m                         Traceback (most recent call last)",
      "Cell \u001b[0;32mIn[12], line 7\u001b[0m\n\u001b[1;32m      5\u001b[0m     h2m_dict[row[\u001b[38;5;124m'\u001b[39m\u001b[38;5;124mexternal_gene_name\u001b[39m\u001b[38;5;124m'\u001b[39m]] \u001b[38;5;241m=\u001b[39m row[\u001b[38;5;124m\"\u001b[39m\u001b[38;5;124mmmusculus_homolog_associated_gene_name\u001b[39m\u001b[38;5;124m\"\u001b[39m]\n\u001b[1;32m      6\u001b[0m \u001b[38;5;66;03m# read gmt file into dict\u001b[39;00m\n\u001b[0;32m----> 7\u001b[0m kegg \u001b[38;5;241m=\u001b[39m gp\u001b[38;5;241m.\u001b[39mread_gmt(path\u001b[38;5;241m=\u001b[39m\u001b[38;5;124m\"\u001b[39m\u001b[38;5;124mtests/extdata/enrichr.KEGG_2016.gmt\u001b[39m\u001b[38;5;124m\"\u001b[39m)\n\u001b[1;32m      8\u001b[0m \u001b[38;5;28mprint\u001b[39m(kegg[\u001b[38;5;124m'\u001b[39m\u001b[38;5;124mMAPK signaling pathway Homo sapiens hsa04010\u001b[39m\u001b[38;5;124m'\u001b[39m][:\u001b[38;5;241m10\u001b[39m])\n",
      "File \u001b[0;32m~/.local/lib/python3.11/site-packages/gseapy/parser.py:86\u001b[0m, in \u001b[0;36mread_gmt\u001b[0;34m(path)\u001b[0m\n\u001b[1;32m     80\u001b[0m \u001b[38;5;250m\u001b[39m\u001b[38;5;124;03m\"\"\"Read GMT file\u001b[39;00m\n\u001b[1;32m     81\u001b[0m \n\u001b[1;32m     82\u001b[0m \u001b[38;5;124;03m:param str path: the path to a gmt file.\u001b[39;00m\n\u001b[1;32m     83\u001b[0m \u001b[38;5;124;03m:return: a dict object\u001b[39;00m\n\u001b[1;32m     84\u001b[0m \u001b[38;5;124;03m\"\"\"\u001b[39;00m\n\u001b[1;32m     85\u001b[0m \u001b[38;5;28;01mif\u001b[39;00m path\u001b[38;5;241m.\u001b[39mlower()\u001b[38;5;241m.\u001b[39mendswith(\u001b[38;5;124m\"\u001b[39m\u001b[38;5;124mgmt\u001b[39m\u001b[38;5;124m\"\u001b[39m):\n\u001b[0;32m---> 86\u001b[0m     \u001b[38;5;28;01mreturn\u001b[39;00m get_library(name\u001b[38;5;241m=\u001b[39mpath, min_size\u001b[38;5;241m=\u001b[39m\u001b[38;5;241m0\u001b[39m, max_size\u001b[38;5;241m=\u001b[39m\u001b[38;5;241m100000\u001b[39m, gene_list\u001b[38;5;241m=\u001b[39m\u001b[38;5;28;01mNone\u001b[39;00m)\n\u001b[1;32m     87\u001b[0m \u001b[38;5;28;01melse\u001b[39;00m:\n\u001b[1;32m     88\u001b[0m     \u001b[38;5;28;01mraise\u001b[39;00m \u001b[38;5;167;01mValueError\u001b[39;00m(\u001b[38;5;124m\"\u001b[39m\u001b[38;5;124mPlease input a gmt file\u001b[39m\u001b[38;5;124m\"\u001b[39m)\n",
      "File \u001b[0;32m~/.local/lib/python3.11/site-packages/gseapy/parser.py:124\u001b[0m, in \u001b[0;36mget_library\u001b[0;34m(name, organism, min_size, max_size, save, gene_list)\u001b[0m\n\u001b[1;32m    122\u001b[0m \u001b[38;5;28;01mif\u001b[39;00m name\u001b[38;5;241m.\u001b[39mlower()\u001b[38;5;241m.\u001b[39mendswith(\u001b[38;5;124m\"\u001b[39m\u001b[38;5;124m.gmt\u001b[39m\u001b[38;5;124m\"\u001b[39m):\n\u001b[1;32m    123\u001b[0m     logging\u001b[38;5;241m.\u001b[39minfo(\u001b[38;5;124m\"\u001b[39m\u001b[38;5;124mUser Defined gene sets is given.......continue..........\u001b[39m\u001b[38;5;124m\"\u001b[39m)\n\u001b[0;32m--> 124\u001b[0m     \u001b[38;5;28;01mwith\u001b[39;00m \u001b[38;5;28mopen\u001b[39m(name) \u001b[38;5;28;01mas\u001b[39;00m genesets:\n\u001b[1;32m    125\u001b[0m         \u001b[38;5;28;01mfor\u001b[39;00m line \u001b[38;5;129;01min\u001b[39;00m genesets:\n\u001b[1;32m    126\u001b[0m             entries \u001b[38;5;241m=\u001b[39m line\u001b[38;5;241m.\u001b[39mstrip()\u001b[38;5;241m.\u001b[39msplit(\u001b[38;5;124m\"\u001b[39m\u001b[38;5;130;01m\\t\u001b[39;00m\u001b[38;5;124m\"\u001b[39m)\n",
      "\u001b[0;31mFileNotFoundError\u001b[0m: [Errno 2] No such file or directory: 'tests/extdata/enrichr.KEGG_2016.gmt'"
     ]
    }
   ],
   "source": [
    "# get a dict symbol mappings\n",
    "h2m_dict = {}\n",
    "for i, row in h2m.loc[:,[\"external_gene_name\", \"mmusculus_homolog_associated_gene_name\"]].iterrows():\n",
    "    if row.isna().any(): continue\n",
    "    h2m_dict[row['external_gene_name']] = row[\"mmusculus_homolog_associated_gene_name\"]\n",
    "# read gmt file into dict\n",
    "kegg = gp.read_gmt(path=\"tests/extdata/enrichr.KEGG_2016.gmt\")\n",
    "print(kegg['MAPK signaling pathway Homo sapiens hsa04010'][:10])"
   ]
  },
  {
   "cell_type": "code",
   "execution_count": 14,
   "id": "498c8dc6-c7cc-4516-a109-e4047e8e49d4",
   "metadata": {
    "collapsed": true,
    "jupyter": {
     "outputs_hidden": true
    },
    "tags": []
   },
   "outputs": [
    {
     "ename": "NameError",
     "evalue": "name 'kegg' is not defined",
     "output_type": "error",
     "traceback": [
      "\u001b[0;31m---------------------------------------------------------------------------\u001b[0m",
      "\u001b[0;31mNameError\u001b[0m                                 Traceback (most recent call last)",
      "Cell \u001b[0;32mIn[14], line 2\u001b[0m\n\u001b[1;32m      1\u001b[0m kegg_mouse \u001b[38;5;241m=\u001b[39m {}\n\u001b[0;32m----> 2\u001b[0m \u001b[38;5;28;01mfor\u001b[39;00m term, genes \u001b[38;5;129;01min\u001b[39;00m kegg\u001b[38;5;241m.\u001b[39mitems():\n\u001b[1;32m      3\u001b[0m     new_genes \u001b[38;5;241m=\u001b[39m []\n\u001b[1;32m      4\u001b[0m     \u001b[38;5;28;01mfor\u001b[39;00m gene \u001b[38;5;129;01min\u001b[39;00m genes:\n",
      "\u001b[0;31mNameError\u001b[0m: name 'kegg' is not defined"
     ]
    }
   ],
   "source": [
    "kegg_mouse = {}\n",
    "for term, genes in kegg.items():\n",
    "    new_genes = []\n",
    "    for gene in genes:\n",
    "        if gene in h2m_dict:\n",
    "            new_genes.append(h2m_dict[gene])\n",
    "    kegg_mouse[term] = new_genes\n",
    "print(kegg_mouse['MAPK signaling pathway Homo sapiens hsa04010'][:10])"
   ]
  },
  {
   "cell_type": "code",
   "execution_count": 15,
   "id": "732ea4d4-5ad9-4a74-9a04-63f159bb5da4",
   "metadata": {
    "tags": []
   },
   "outputs": [],
   "source": [
    "from gseapy import Msigdb"
   ]
  },
  {
   "cell_type": "code",
   "execution_count": 16,
   "id": "a6a98cc6-84de-4b0a-acd2-c8006bb84815",
   "metadata": {
    "tags": []
   },
   "outputs": [],
   "source": [
    "msig = Msigdb()\n",
    "# mouse hallmark gene sets\n",
    "gmt = msig.get_gmt(category='mh.all', dbver=\"2024.1.Mm\")"
   ]
  },
  {
   "cell_type": "code",
   "execution_count": 18,
   "id": "70734c6b-161b-476e-a022-abe164095736",
   "metadata": {
    "collapsed": true,
    "jupyter": {
     "outputs_hidden": true
    },
    "tags": []
   },
   "outputs": [
    {
     "data": {
      "text/plain": [
       "['m1.all',\n",
       " 'm2.all',\n",
       " 'm2.cgp',\n",
       " 'm2.cp.biocarta',\n",
       " 'm2.cp.reactome',\n",
       " 'm2.cp',\n",
       " 'm2.cp.wikipathways',\n",
       " 'm3.all',\n",
       " 'm3.gtrd',\n",
       " 'm3.mirdb',\n",
       " 'm5.all',\n",
       " 'm5.go.bp',\n",
       " 'm5.go.cc',\n",
       " 'm5.go.mf',\n",
       " 'm5.go',\n",
       " 'm5.mpt',\n",
       " 'm8.all',\n",
       " 'mh.all',\n",
       " 'msigdb']"
      ]
     },
     "execution_count": 18,
     "metadata": {},
     "output_type": "execute_result"
    }
   ],
   "source": [
    "# list msigdb version you wanna query\n",
    "msig.list_dbver()\n",
    "# list categories given dbver.\n",
    "msig.list_category(dbver=\"2024.1.Mm\") # mouse"
   ]
  },
  {
   "cell_type": "code",
   "execution_count": 21,
   "id": "3451e2c3-f24a-4a26-bbd8-74c0a0cbbf91",
   "metadata": {
    "collapsed": true,
    "jupyter": {
     "outputs_hidden": true
    },
    "tags": []
   },
   "outputs": [
    {
     "name": "stdout",
     "output_type": "stream",
     "text": [
      "['Abi3bp', 'Acta2', 'Adam12', 'Anpep', 'Aplp1', 'Areg', 'Basp1', 'Bdnf', 'Bgn', 'Bmp1', 'Cadm1', 'Cald1', 'Calu', 'Cap2', 'Capg', 'Ccn1', 'Ccn2', 'Cd44', 'Cdh11', 'Cdh2', 'Cdh6', 'Col11a1', 'Col12a1', 'Col16a1', 'Col1a1', 'Col1a2', 'Col3a1', 'Col4a1', 'Col4a2', 'Col5a1', 'Col5a2', 'Col5a3', 'Col6a2', 'Col6a3', 'Col7a1', 'Col8a2', 'Colgalt1', 'Comp', 'Copa', 'Crlf1', 'Cthrc1', 'Cxcl12', 'Cxcl15', 'Cxcl5', 'Dab2', 'Dcn', 'Dkk1', 'Dpysl3', 'Dst', 'Ecm1', 'Ecm2', 'Edil3', 'Efemp2', 'Eln', 'Emp3', 'Eno2', 'Fap', 'Fas', 'Fbln1', 'Fbln2', 'Fbln5', 'Fbn1', 'Fbn2', 'Fermt2', 'Fgf2', 'Flna', 'Fmod', 'Fn1', 'Foxc2', 'Fstl1', 'Fstl3', 'Fuca1', 'Fzd8', 'Gadd45a', 'Gadd45b', 'Gas1', 'Gem', 'Gja1', 'Glipr1', 'Gm21451', 'Gpc1', 'Gpx7', 'Grem1', 'Htra1', 'Id2', 'Igfbp2', 'Igfbp3', 'Igfbp4', 'Il15', 'Il6', 'Inhba', 'Itga2', 'Itga5', 'Itgav', 'Itgb1', 'Itgb3', 'Itgb5', 'Jun', 'Lama1', 'Lama2', 'Lama3', 'Lamc1', 'Lamc2', 'Lgals1', 'Lox', 'Loxl1', 'Lrp1', 'Lrrc15', 'Lum', 'Magee1', 'Matn2', 'Matn3', 'Mcm7', 'Mest', 'Mfap5', 'Mgp', 'Mmp14', 'Mmp2', 'Mmp3', 'Msx1', 'Myl9', 'Mylk', 'Nid2', 'Nnmt', 'Notch2', 'Nt5e', 'Ntm', 'Oxtr', 'P3h1', 'Pcolce', 'Pcolce2', 'Pdgfrb', 'Pdlim4', 'Pfn2', 'Plaur', 'Plod1', 'Plod2', 'Plod3', 'Pmepa1', 'Pmp22', 'Postn', 'Ppib', 'Prrx1', 'Pthlh', 'Ptx3', 'Pvr', 'Qsox1', 'Rgs4', 'Rhob', 'Sat1', 'Scg2', 'Sdc1', 'Sdc4', 'Serpine1', 'Serpine2', 'Serpinh1', 'Sfrp1', 'Sfrp4', 'Sgcb', 'Sgcd', 'Sgcg', 'Slc6a8', 'Slit2', 'Slit3', 'Snai2', 'Sntb1', 'Sparc', 'Spock1', 'Spp1', 'Tagln', 'Tfpi2', 'Tgfb1', 'Tgfbi', 'Tgfbr3', 'Tgm2', 'Thbs1', 'Thbs2', 'Thy1', 'Timp1', 'Timp3', 'Tnc', 'Tnfaip3', 'Tnfrsf11b', 'Tnfrsf12a', 'Tpm1', 'Tpm2', 'Tpm4', 'Vcam1', 'Vcan', 'Vegfa', 'Vegfc', 'Vim', 'Wipf1', 'Wnt5a']\n"
     ]
    }
   ],
   "source": [
    "print(gmt['HALLMARK_EPITHELIAL_MESENCHYMAL_TRANSITION'])"
   ]
  },
  {
   "cell_type": "code",
   "execution_count": 23,
   "id": "de070e20-3360-48ba-9702-d741d392d03d",
   "metadata": {
    "tags": []
   },
   "outputs": [
    {
     "data": {
      "text/plain": [
       "['ARCHS4_Cell-lines',\n",
       " 'ARCHS4_IDG_Coexp',\n",
       " 'ARCHS4_Kinases_Coexp',\n",
       " 'ARCHS4_TFs_Coexp',\n",
       " 'ARCHS4_Tissues',\n",
       " 'Achilles_fitness_decrease',\n",
       " 'Achilles_fitness_increase',\n",
       " 'Aging_Perturbations_from_GEO_down',\n",
       " 'Aging_Perturbations_from_GEO_up',\n",
       " 'Allen_Brain_Atlas_10x_scRNA_2021']"
      ]
     },
     "execution_count": 23,
     "metadata": {},
     "output_type": "execute_result"
    }
   ],
   "source": [
    "# mouse Enrichr API\n",
    "mouse = gp.get_library_name(organism='Mouse')\n",
    "mouse[:10]"
   ]
  },
  {
   "cell_type": "code",
   "execution_count": 24,
   "id": "66af0435-f13f-42ad-9773-a5bc1371fb23",
   "metadata": {
    "collapsed": true,
    "jupyter": {
     "outputs_hidden": true
    },
    "tags": []
   },
   "outputs": [
    {
     "name": "stdout",
     "output_type": "stream",
     "text": [
      "['ACVR1', 'HSPA1L', 'ACOD1', 'RUNX3', 'SMARCA5', 'ABCA12', 'HSPA1A', 'SIK2', 'SIK3', 'NAIP', 'SIK1', 'TP53', 'HSPA1B', 'PI4K2A', 'PDXK', 'EPB42', 'PNKP', 'ATP5A1', 'HNRNPU', 'UHMK1', 'NUAK2', 'AKT3', 'CLP1', 'MOV10L1', 'MTHFD1L', 'AKT1', 'STK38L', 'AKT2', 'N4BP2', 'LONP1', 'ABCA2', 'INSR', 'ABCA1', 'DMPK', 'PRKCI', 'PLK1', 'MTHFS', 'HASPIN', 'SRPK1', 'CLPX', 'SRPK2', 'LATS2', 'LATS1', 'TPX2', 'WNK1', 'WNK2', 'WNK3', 'WNK4', 'BTK', 'HYOU1', 'HSPA4L', 'SMC4', 'NLK', 'HSPH1', 'MYO18A', 'PDK4', 'PRKACB', 'PDK3', 'PDK2', 'SPHK1', 'SYN3', 'NME1', 'SYN2', 'SYN1', 'ICK', 'ACVRL1', 'FICD', 'DHX9', 'PIF1', 'IDE', 'IGHMBP2', 'KIF14', 'TWF2', 'TWF1', 'SEC14L3', 'STK36', 'STK38', 'MAP3K20', 'MAP4K2', 'MAP4K3', 'CDKL5', 'MAP4K1', 'PNPLA8', 'TRNT1', 'MYO9B', 'STK17A', 'STK17B', 'NEK11', 'TSSK6', 'TAOK1', 'TRIP13', 'TSSK4', 'CARS2', 'TSSK2', 'TSSK3', 'RYR1', 'NDUFA13', 'PRKAG2', 'PYGL', 'OLA1', 'PRKAG1', 'HSPA14', 'HSPA13', 'RECQL4', 'ENPP1', 'MAP4K4', 'MAP4K5', 'ABCG8', 'GSS', 'TAP1', 'TRPV1', 'MSH2', 'ATP1B1', 'ERN1', 'GCK', 'ERN2', 'PINK1', 'MSH6', 'ABCG1', 'ABCG5', 'CARS', 'ATP10D', 'NOL9', 'ATP1A3', 'ATP1A2', 'ATP1A1', 'THG1L', 'YARS2', 'PTPA', 'NLRP1', 'MYH10', 'MAP3K5', 'MAP3K6', 'NEK6', 'MINK1', 'DARS2', 'ACLY', 'TBCK', 'STK26', 'KIFC1', 'EIF4G1', 'UBA2', 'BRSK1', 'BRSK2', 'BLM', 'DYRK3', 'DYRK2', 'AK3', 'PDS5B', 'RHOBTB3', 'STK11', 'PPIP5K1', 'PPIP5K2', 'MARK1', 'TNK1', 'PAPOLA', 'PIM1', 'ABL1', 'MLKL', 'EIF2B2', 'MARK4', 'MARK2', 'HSPA9', 'HSP90AA1', 'KCNJ11', 'HSPA6', 'HSPA5', 'HSPA8', 'CDC42BPG', 'HSPA7', 'LANCL2', 'HSPA2', 'PEX1', 'HSPA4', 'OAS1', 'CDC42BPB', 'CDC42BPA', 'TGFBR1', 'GALK1', 'BCKDK', 'PPP5C', 'ACTA1', 'SARS2', 'CDK6', 'OAS2', 'OAS3', 'PEX6', 'MYH9', 'MCM6', 'TOP1', 'BMPR1A', 'BMPR1B', 'MYH8', 'MAST1', 'NVL', 'VPS4A', 'NIM1K', 'ABCB6', 'CHD8', 'MAST2', 'TSSK1B', 'ABCB9', 'NLRC4', 'RTEL1', 'STK3', 'STK4', 'ATP5D', 'PMVK', 'IRAK3', 'MKNK1', 'MKNK2', 'PGK2', 'PGK1', 'PRPS1L1', 'CDK11B', 'CDK11A', 'DAPK2', 'DAPK1', 'DAPK3', 'LMTK2', 'OXSR1', 'MYO1F', 'P2RX7', 'P2RX6', 'PFKM', 'RAD51', 'ZAP70', 'P2RX5', 'PFKL', 'P2RX4', 'MYO1B', 'P2RX3', 'SNRK', 'P2RX2', 'ERCC6', 'ABCE1', 'EIF4A3', 'PRPS2', 'ABCD3', 'ABCD4', 'DDX25', 'HSP90AB1', 'PRPS1', 'ACTC1', 'ACVR1B', 'RPS6KA5', 'RPS6KA4', 'MTPAP', 'SRR', 'TDG', 'TLK2', 'TLK1', 'ABCD1', 'ATP7B', 'ATP7A']\n"
     ]
    }
   ],
   "source": [
    "## download library or read a .gmt file\n",
    "go_mf = gp.get_library(name='GO_Molecular_Function_2018', organism='Mouse')\n",
    "print(go_mf['ATP binding (GO:0005524)'])"
   ]
  },
  {
   "cell_type": "code",
   "execution_count": 25,
   "id": "95be4a04-7fb0-4b75-9724-7ad491b6ce15",
   "metadata": {
    "tags": []
   },
   "outputs": [
    {
     "data": {
      "text/html": [
       "<div>\n",
       "<style scoped>\n",
       "    .dataframe tbody tr th:only-of-type {\n",
       "        vertical-align: middle;\n",
       "    }\n",
       "\n",
       "    .dataframe tbody tr th {\n",
       "        vertical-align: top;\n",
       "    }\n",
       "\n",
       "    .dataframe thead th {\n",
       "        text-align: right;\n",
       "    }\n",
       "</style>\n",
       "<table border=\"1\" class=\"dataframe\">\n",
       "  <thead>\n",
       "    <tr style=\"text-align: right;\">\n",
       "      <th></th>\n",
       "      <th>0</th>\n",
       "    </tr>\n",
       "  </thead>\n",
       "  <tbody>\n",
       "    <tr>\n",
       "      <th>0</th>\n",
       "      <td>Aldh1a1</td>\n",
       "    </tr>\n",
       "    <tr>\n",
       "      <th>1</th>\n",
       "      <td>Gabra2</td>\n",
       "    </tr>\n",
       "    <tr>\n",
       "      <th>2</th>\n",
       "      <td>Ago1</td>\n",
       "    </tr>\n",
       "    <tr>\n",
       "      <th>3</th>\n",
       "      <td>Cebpz</td>\n",
       "    </tr>\n",
       "    <tr>\n",
       "      <th>4</th>\n",
       "      <td>Stk11ip</td>\n",
       "    </tr>\n",
       "  </tbody>\n",
       "</table>\n",
       "</div>"
      ],
      "text/plain": [
       "         0\n",
       "0  Aldh1a1\n",
       "1   Gabra2\n",
       "2     Ago1\n",
       "3    Cebpz\n",
       "4  Stk11ip"
      ]
     },
     "execution_count": 25,
     "metadata": {},
     "output_type": "execute_result"
    }
   ],
   "source": [
    "# read in an example gene list\n",
    "gene_list = pd.read_csv(\"/bgfs/alee/LO_LAB/Personal/Daisong/CPT6/Superfreq/somatic_mutations.csv\",header=None, sep=\"\\t\")\n",
    "gene_list.head()"
   ]
  },
  {
   "cell_type": "code",
   "execution_count": 26,
   "id": "75d62517-8309-428a-9c20-7fec05eba303",
   "metadata": {
    "jupyter": {
     "source_hidden": true
    },
    "tags": []
   },
   "outputs": [
    {
     "name": "stdout",
     "output_type": "stream",
     "text": [
      "['Aldh1a1', 'Gabra2', 'Ago1', 'Cebpz', 'Stk11ip', 'Galnt18', 'Ptprs', 'Zgrf1', 'Cfap54', 'Tpo']\n"
     ]
    }
   ],
   "source": [
    "# convert dataframe or series to list\n",
    "glist = gene_list.squeeze().str.strip().to_list()\n",
    "print(glist[:10])"
   ]
  },
  {
   "cell_type": "code",
   "execution_count": 28,
   "id": "8a501f4e-effc-4579-80b8-8d5f66411b94",
   "metadata": {
    "tags": []
   },
   "outputs": [
    {
     "name": "stderr",
     "output_type": "stream",
     "text": [
      "2025-02-18 15:50:26,812 [WARNING] Input library not found: MSigDB_Hallmark_2024. Skip\n"
     ]
    }
   ],
   "source": [
    "# if you are only intrested in dataframe that enrichr returned, please set outdir=None\n",
    "enr = gp.enrichr(gene_list=gene_list, # or \"./tests/data/gene_list.txt\",\n",
    "                 gene_sets=['MSigDB_Hallmark_2024','KEGG_2019_Mouse'],\n",
    "                 organism='Mouse', # don't forget to set organism to the one you desired! e.g. Yeast\n",
    "                 outdir=None, # don't write to disk\n",
    "                )"
   ]
  },
  {
   "cell_type": "code",
   "execution_count": 29,
   "id": "df3875e1-9c54-4f75-8019-4b516fcfc32d",
   "metadata": {
    "tags": []
   },
   "outputs": [
    {
     "data": {
      "text/html": [
       "<div>\n",
       "<style scoped>\n",
       "    .dataframe tbody tr th:only-of-type {\n",
       "        vertical-align: middle;\n",
       "    }\n",
       "\n",
       "    .dataframe tbody tr th {\n",
       "        vertical-align: top;\n",
       "    }\n",
       "\n",
       "    .dataframe thead th {\n",
       "        text-align: right;\n",
       "    }\n",
       "</style>\n",
       "<table border=\"1\" class=\"dataframe\">\n",
       "  <thead>\n",
       "    <tr style=\"text-align: right;\">\n",
       "      <th></th>\n",
       "      <th>Gene_set</th>\n",
       "      <th>Term</th>\n",
       "      <th>Overlap</th>\n",
       "      <th>P-value</th>\n",
       "      <th>Adjusted P-value</th>\n",
       "      <th>Old P-value</th>\n",
       "      <th>Old Adjusted P-value</th>\n",
       "      <th>Odds Ratio</th>\n",
       "      <th>Combined Score</th>\n",
       "      <th>Genes</th>\n",
       "    </tr>\n",
       "  </thead>\n",
       "  <tbody>\n",
       "    <tr>\n",
       "      <th>0</th>\n",
       "      <td>KEGG_2019_Mouse</td>\n",
       "      <td>Cholesterol metabolism</td>\n",
       "      <td>6/49</td>\n",
       "      <td>0.005801</td>\n",
       "      <td>0.999995</td>\n",
       "      <td>0</td>\n",
       "      <td>0</td>\n",
       "      <td>4.034169</td>\n",
       "      <td>20.774632</td>\n",
       "      <td>SCARB1;NPC1;VDAC1;LRP2;ABCB11;APOB</td>\n",
       "    </tr>\n",
       "    <tr>\n",
       "      <th>1</th>\n",
       "      <td>KEGG_2019_Mouse</td>\n",
       "      <td>ECM-receptor interaction</td>\n",
       "      <td>7/83</td>\n",
       "      <td>0.021691</td>\n",
       "      <td>0.999995</td>\n",
       "      <td>0</td>\n",
       "      <td>0</td>\n",
       "      <td>2.662340</td>\n",
       "      <td>10.199020</td>\n",
       "      <td>RELN;ITGA4;LAMA2;COL4A3;COL4A6;SPP1;FN1</td>\n",
       "    </tr>\n",
       "    <tr>\n",
       "      <th>2</th>\n",
       "      <td>KEGG_2019_Mouse</td>\n",
       "      <td>Hypertrophic cardiomyopathy (HCM)</td>\n",
       "      <td>7/86</td>\n",
       "      <td>0.025785</td>\n",
       "      <td>0.999995</td>\n",
       "      <td>0</td>\n",
       "      <td>0</td>\n",
       "      <td>2.560839</td>\n",
       "      <td>9.367474</td>\n",
       "      <td>CACNB4;ITGA4;LAMA2;CACNA2D3;DMD;PRKAG3;TTN</td>\n",
       "    </tr>\n",
       "    <tr>\n",
       "      <th>3</th>\n",
       "      <td>KEGG_2019_Mouse</td>\n",
       "      <td>Taste transduction</td>\n",
       "      <td>7/88</td>\n",
       "      <td>0.028789</td>\n",
       "      <td>0.999995</td>\n",
       "      <td>0</td>\n",
       "      <td>0</td>\n",
       "      <td>2.497349</td>\n",
       "      <td>8.859972</td>\n",
       "      <td>GABRA2;GABRA4;SCN9A;TAS1R1;TAS2R134;ASIC2;SCN3A</td>\n",
       "    </tr>\n",
       "    <tr>\n",
       "      <th>4</th>\n",
       "      <td>KEGG_2019_Mouse</td>\n",
       "      <td>Vitamin B6 metabolism</td>\n",
       "      <td>2/9</td>\n",
       "      <td>0.034791</td>\n",
       "      <td>0.999995</td>\n",
       "      <td>0</td>\n",
       "      <td>0</td>\n",
       "      <td>8.226528</td>\n",
       "      <td>27.627991</td>\n",
       "      <td>PHOSPHO2;AOX4</td>\n",
       "    </tr>\n",
       "  </tbody>\n",
       "</table>\n",
       "</div>"
      ],
      "text/plain": [
       "          Gene_set                               Term Overlap   P-value  \\\n",
       "0  KEGG_2019_Mouse             Cholesterol metabolism    6/49  0.005801   \n",
       "1  KEGG_2019_Mouse           ECM-receptor interaction    7/83  0.021691   \n",
       "2  KEGG_2019_Mouse  Hypertrophic cardiomyopathy (HCM)    7/86  0.025785   \n",
       "3  KEGG_2019_Mouse                 Taste transduction    7/88  0.028789   \n",
       "4  KEGG_2019_Mouse              Vitamin B6 metabolism     2/9  0.034791   \n",
       "\n",
       "   Adjusted P-value  Old P-value  Old Adjusted P-value  Odds Ratio  \\\n",
       "0          0.999995            0                     0    4.034169   \n",
       "1          0.999995            0                     0    2.662340   \n",
       "2          0.999995            0                     0    2.560839   \n",
       "3          0.999995            0                     0    2.497349   \n",
       "4          0.999995            0                     0    8.226528   \n",
       "\n",
       "   Combined Score                                            Genes  \n",
       "0       20.774632               SCARB1;NPC1;VDAC1;LRP2;ABCB11;APOB  \n",
       "1       10.199020          RELN;ITGA4;LAMA2;COL4A3;COL4A6;SPP1;FN1  \n",
       "2        9.367474       CACNB4;ITGA4;LAMA2;CACNA2D3;DMD;PRKAG3;TTN  \n",
       "3        8.859972  GABRA2;GABRA4;SCN9A;TAS1R1;TAS2R134;ASIC2;SCN3A  \n",
       "4       27.627991                                    PHOSPHO2;AOX4  "
      ]
     },
     "execution_count": 29,
     "metadata": {},
     "output_type": "execute_result"
    }
   ],
   "source": [
    "# obj.results stores all results\n",
    "enr.results.head(5)"
   ]
  },
  {
   "cell_type": "code",
   "execution_count": null,
   "id": "d984c227-d92d-480e-9589-a5fad2ade455",
   "metadata": {},
   "outputs": [],
   "source": [
    "# read in an example gene list\n",
    "gene_list = pd.read_csv(\"/bgfs/alee/LO_LAB/Personal/Daisong/CPT6/Superfreq/somatic_mutations.csv\",header=None, sep=\"\\t\")\n",
    "gene_list.head()"
   ]
  },
  {
   "cell_type": "code",
   "execution_count": 38,
   "id": "585ddb66-9a83-454e-9232-aca1286dddc5",
   "metadata": {
    "tags": []
   },
   "outputs": [
    {
     "data": {
      "text/plain": [
       "<gseapy.enrichr.Enrichr at 0x7f391c116e50>"
      ]
     },
     "execution_count": 38,
     "metadata": {},
     "output_type": "execute_result"
    }
   ],
   "source": [
    "import gseapy\n",
    "from gseapy import enrichr\n",
    "\n",
    "gseapy.enrichr(gene_list='/bgfs/alee/LO_LAB/Personal/Daisong/CPT6/Superfreq/somatic_mutations.txt',  gene_sets='KEGG_2019_Mouse')"
   ]
  },
  {
   "cell_type": "code",
   "execution_count": 74,
   "id": "4f6f181d-7f2c-4fd9-8dcd-c0ec6cbb2fa6",
   "metadata": {
    "tags": []
   },
   "outputs": [
    {
     "data": {
      "text/html": [
       "<div>\n",
       "<style scoped>\n",
       "    .dataframe tbody tr th:only-of-type {\n",
       "        vertical-align: middle;\n",
       "    }\n",
       "\n",
       "    .dataframe tbody tr th {\n",
       "        vertical-align: top;\n",
       "    }\n",
       "\n",
       "    .dataframe thead th {\n",
       "        text-align: right;\n",
       "    }\n",
       "</style>\n",
       "<table border=\"1\" class=\"dataframe\">\n",
       "  <thead>\n",
       "    <tr style=\"text-align: right;\">\n",
       "      <th></th>\n",
       "      <th>0</th>\n",
       "    </tr>\n",
       "  </thead>\n",
       "  <tbody>\n",
       "    <tr>\n",
       "      <th>0</th>\n",
       "      <td>Aldh1a1</td>\n",
       "    </tr>\n",
       "    <tr>\n",
       "      <th>1</th>\n",
       "      <td>Gabra2</td>\n",
       "    </tr>\n",
       "    <tr>\n",
       "      <th>2</th>\n",
       "      <td>Ago1</td>\n",
       "    </tr>\n",
       "    <tr>\n",
       "      <th>3</th>\n",
       "      <td>Cebpz</td>\n",
       "    </tr>\n",
       "    <tr>\n",
       "      <th>4</th>\n",
       "      <td>Stk11ip</td>\n",
       "    </tr>\n",
       "  </tbody>\n",
       "</table>\n",
       "</div>"
      ],
      "text/plain": [
       "         0\n",
       "0  Aldh1a1\n",
       "1   Gabra2\n",
       "2     Ago1\n",
       "3    Cebpz\n",
       "4  Stk11ip"
      ]
     },
     "execution_count": 74,
     "metadata": {},
     "output_type": "execute_result"
    }
   ],
   "source": [
    "# read in an example gene list\n",
    "gene_list = pd.read_csv(\"/bgfs/alee/LO_LAB/Personal/Daisong/CPT6/Superfreq/somatic_mutations.csv\",header=None, sep=\"\\t\")\n",
    "gene_list.head()"
   ]
  },
  {
   "cell_type": "code",
   "execution_count": 59,
   "id": "dc024757-f567-4f7f-93c1-5212465266cf",
   "metadata": {
    "tags": []
   },
   "outputs": [
    {
     "name": "stdout",
     "output_type": "stream",
     "text": [
      "0        Cimip4\n",
      "1         Bmpr2\n",
      "2          Cps1\n",
      "3         Obsl1\n",
      "4          Irs1\n",
      "         ...   \n",
      "407       Glis3\n",
      "408        Mxi1\n",
      "409        Aco2\n",
      "410    37kbp CL\n",
      "411    306bp CL\n",
      "Name: gene, Length: 412, dtype: object\n"
     ]
    }
   ],
   "source": [
    "import pandas as pd\n",
    "\n",
    "# Load the gene list (assuming the gene names are in the first column)\n",
    "gene_df = pd.read_csv(\"/bgfs/alee/LO_LAB/Personal/Daisong/CPT6/Superfreq/plot/CPT6/rivers/somatic_mutations.csv\",\n",
    "                      header=None, sep=\"\\t\")\n",
    "\n",
    "# Rename the first column for clarity (adjust if your file has more columns)\n",
    "gene_df.columns = ['gene']\n",
    "\n",
    "# Remove duplicate gene names\n",
    "unique_genes = gene_df['gene'].drop_duplicates()\n",
    "\n",
    "filtered_genes = filtered_genes.str.replace(r'\\(.*$', '', regex=True)\n",
    "\n",
    "# Filter out:\n",
    "# - Genes that end with \"Rik\"\n",
    "# - Genes that start with \"Gm\"\n",
    "filtered_genes = unique_genes[\n",
    "    ~unique_genes.str.endswith(\"Rik\") &\n",
    "    ~unique_genes.str.startswith(\"Gm\")\n",
    "].reset_index(drop=True)\n",
    "\n",
    "filtered_genes = filtered_genes.str.replace(r'\\s*\\(.*$', '', regex=True)\n",
    "\n",
    "# Print or further process the filtered gene list\n",
    "print(filtered_genes)\n",
    "filtered_genes.to_csv(\"/bgfs/alee/LO_LAB/Personal/Daisong/CPT6/Superfreq/filtered_somatic_mutations_simple.csv\", index=False, header=False)"
   ]
  },
  {
   "cell_type": "code",
   "execution_count": 4,
   "id": "06ad19ad-081a-41f0-8d30-3f178b685b56",
   "metadata": {
    "tags": []
   },
   "outputs": [
    {
     "name": "stdout",
     "output_type": "stream",
     "text": [
      "  mouse_gene_name hsapiens_homolog_associated_gene_name\n",
      "0         Aldh1a1                               ALDH1A1\n",
      "1          Gabra2                                GABRA2\n",
      "2            Ago1                                  AGO1\n",
      "3           Cebpz                                 CEBPZ\n",
      "4         Stk11ip                               STK11IP\n"
     ]
    }
   ],
   "source": [
    "import pandas as pd\n",
    "from gseapy import Biomart\n",
    "\n",
    "# Read the file into a DataFrame\n",
    "mouse_genes_df = pd.read_csv(\"/bgfs/alee/LO_LAB/Personal/Daisong/CPT6/Superfreq/somatic_mutations.txt\", header=None, names=[\"mouse_gene_name\"])\n",
    "\n",
    "# Query Biomart for mouse-to-human gene mapping\n",
    "bm = Biomart(host='useast.ensembl.org')\n",
    "m2h = bm.query(dataset='mmusculus_gene_ensembl', \n",
    "               attributes=['ensembl_gene_id','external_gene_name',\n",
    "                           'hsapiens_homolog_ensembl_gene',\n",
    "                           'hsapiens_homolog_associated_gene_name'])\n",
    "\n",
    "# Convert to DataFrame\n",
    "m2h_df = pd.DataFrame(m2h)\n",
    "\n",
    "# Merge based on external gene name (mouse gene symbol)\n",
    "merged_df = mouse_genes_df.merge(m2h_df, left_on='mouse_gene_name', right_on='external_gene_name', how='left')\n",
    "\n",
    "# Keep only necessary columns\n",
    "human_df = merged_df[['mouse_gene_name', 'hsapiens_homolog_associated_gene_name']]\n",
    "\n",
    "\n",
    "# Save only the human gene column without the header\n",
    "human_df['hsapiens_homolog_associated_gene_name'].dropna().to_csv(\"/bgfs/alee/LO_LAB/Personal/Daisong/CPT6/Superfreq/somatic_mutations_human.txt\", index=False, header=False)\n",
    "\n",
    "\n",
    "# Display the results\n",
    "print(human_df.head())\n",
    "\n"
   ]
  },
  {
   "cell_type": "code",
   "execution_count": 10,
   "id": "edc90f52-ca6a-4322-bcab-d448b742e2e2",
   "metadata": {
    "tags": []
   },
   "outputs": [
    {
     "name": "stdout",
     "output_type": "stream",
     "text": [
      "           Gene_set                Term Overlap   P-value  Adjusted P-value  \\\n",
      "0  Human_Gene_Atlas      GlobusPallidus    2/59  0.039819          0.761486   \n",
      "1  Human_Gene_Atlas               Liver   7/618  0.048113          0.761486   \n",
      "2  Human_Gene_Atlas  TrigeminalGanglion   3/196  0.088052          0.761486   \n",
      "3  Human_Gene_Atlas        Hypothalamus    2/97  0.095237          0.761486   \n",
      "4  Human_Gene_Atlas              retina   3/218  0.111834          0.761486   \n",
      "\n",
      "   Old P-value  Old Adjusted P-value  Odds Ratio  Combined Score  \\\n",
      "0            0                     0    6.628571       21.366602   \n",
      "1            0                     0    2.209067        6.702747   \n",
      "2            0                     0    2.944400        7.154396   \n",
      "3            0                     0    3.969524        9.333878   \n",
      "4            0                     0    2.640161        5.783906   \n",
      "\n",
      "                                               Genes  \n",
      "0                                        NR5A1;MYO3B  \n",
      "1  MSRA;CYP2A7;CYP2A6;CYP4A11;CYP4A22;CYP4F11;CYP...  \n",
      "2                                    CYLD;FRAS1;RFX3  \n",
      "3                                          GAD1;PMCH  \n",
      "4                                   FRZB;FGFR2;TRPM3  \n"
     ]
    }
   ],
   "source": [
    "import gseapy\n",
    "from gseapy import enrichr\n",
    "\n",
    "# Run enrichment analysis using Enrichr on your gene list\n",
    "enr = gseapy.enrichr(\n",
    "    gene_list='/bgfs/alee/LO_LAB/Personal/Daisong/CPT6/Superfreq/somatic_mutations_human.txt',\n",
    "    gene_sets=['Human_Gene_Atlas'],     \n",
    "    organism='Human',                 \n",
    "    outdir='/bgfs/alee/LO_LAB/Personal/Daisong/CPT6/Superfreq/enrichr_human', \n",
    "    cutoff=1\n",
    ")\n",
    "\n",
    "# View the top results\n",
    "print(enr.results.head())\n"
   ]
  },
  {
   "cell_type": "code",
   "execution_count": 55,
   "id": "a3ebdb67-1787-4307-a4b9-460ec9fae8c6",
   "metadata": {
    "tags": []
   },
   "outputs": [
    {
     "data": {
      "image/png": "[encoded data removed]",
      "text/plain": [
       "<Figure size 300x500 with 2 Axes>"
      ]
     },
     "metadata": {},
     "output_type": "display_data"
    }
   ],
   "source": [
    "# simple plotting function\n",
    "from gseapy import barplot, dotplot\n",
    "\n",
    "# categorical scatterplot\n",
    "ax = dotplot(enr.results,\n",
    "              column=\"Adjusted P-value\",\n",
    "              x='Gene_set', # set x axis, so you could do a multi-sample/library comparsion\n",
    "              size=10,\n",
    "              top_term=10,\n",
    "              figsize=(3,5),\n",
    "              title = \"KEGG\",\n",
    "              xticklabels_rot=45, # rotate xtick labels\n",
    "              show_ring=True, # set to False to revmove outer ring\n",
    "              marker='o',\n",
    "              cutoff=1\n",
    "             )"
   ]
  },
  {
   "cell_type": "code",
   "execution_count": 16,
   "id": "1e1b2512-3331-41eb-9b7b-b70962f497d4",
   "metadata": {},
   "outputs": [
    {
     "name": "stdout",
     "output_type": "stream",
     "text": [
      "Index(['chr', 'start', 'end', 'name', 'clone', 'clonality.liver',\n",
      "       'clonality.tumor', 'error.liver', 'error.tumor', 'severity', 'type',\n",
      "       'AApos', 'AAbefore', 'AAafter', 'isCCGD', 'CCGDstudies',\n",
      "       'CCGDcancerTypes', 'CCGDcosmic', 'CCGDcgc', 'CCGDranks'],\n",
      "      dtype='object')\n",
      "Empty DataFrame\n",
      "Columns: [name, chr, start, end, clone, clonality.liver, clonality.tumor, error.liver, error.tumor, severity, type, AApos, AAbefore, AAafter, isCCGD, CCGDstudies, CCGDcancerTypes, CCGDcosmic, CCGDcgc, CCGDranks]\n",
      "Index: []\n"
     ]
    }
   ],
   "source": [
    "import pandas as pd\n",
    "\n",
    "# Load the Excel file\n",
    "file_path = \"/bgfs/alee/LO_LAB/Personal/Daisong/CPT6/Superfreq/subclone/CPT6-river.csv\"\n",
    "df = pd.read_csv(file_path) \n",
    "\n",
    "# Display column names\n",
    "print(df.columns)\n",
    "\n",
    "# Step 1: Keep only rows where subclone == 1\n",
    "df_filtered = df[df['clone'] == 1]\n",
    "\n",
    "# Step 2: Keep only rows with specific mutation types\n",
    "mutation_types = [\"nonsynonymous\", \"spliceSite\", \"nonsense\", \"frameshift\"]\n",
    "df_filtered = df_filtered[df_filtered['type'].isin(mutation_types)]\n",
    "\n",
    "# Step 3: Merge rows with the same gene name \n",
    "df_filtered = df_filtered.groupby('name', as_index=False).agg(lambda x: ', '.join(x.astype(str)))\n",
    "\n",
    "# Step 4: Remove genes that start with \"Gm\" or end with \"Rik\"\n",
    "df_filtered = df_filtered[~df_filtered['name'].str.startswith(\"Gm\")]\n",
    "df_filtered = df_filtered[~df_filtered['name'].str.endswith(\"Rik\")]\n",
    "\n",
    "# Step 5: Save the filtered results\n",
    "output_path = \"/bgfs/alee/LO_LAB/Personal/Daisong/CPT6/Superfreq/subclone1.csv\"\n",
    "df_filtered.to_csv(output_path, index=False)\n",
    "\n",
    "print(df_filtered.head())"
   ]
  },
  {
   "cell_type": "code",
   "execution_count": 19,
   "id": "a077bf60-1814-47ab-a5c0-4b129e47f177",
   "metadata": {
    "tags": []
   },
   "outputs": [
    {
     "name": "stdout",
     "output_type": "stream",
     "text": [
      "   gene_name chr        start          end                          name  \\\n",
      "0       Ago1   4  126443241.0  126443241.0           Ago1 (4) spliceSite   \n",
      "1      Bcas3  11   85822050.0   85822050.0      Bcas3 (11) nonsynonymous   \n",
      "2      Cpxm2   7  132049038.0  132049038.0       Cpxm2 (7) nonsynonymous   \n",
      "3  D17H6S53E  17   35127766.0   35127766.0  D17H6S53E (17) nonsynonymous   \n",
      "4   Dcaf12l1   X   44789688.0   44789688.0         Dcaf12l1 (X) nonsense   \n",
      "\n",
      "  clone clonality.liver clonality.tumor  error.liver  error.tumor  ...  \\\n",
      "0     3             0.0     0.258823529  0.032942383  0.118255362  ...   \n",
      "1     3             0.0     0.388349515  0.019903547  0.118679038  ...   \n",
      "2     3             0.0     0.362068966  0.022294119  0.102593535  ...   \n",
      "3     3             0.0     0.304093567  0.017976563  0.082459815  ...   \n",
      "4     3             0.0     0.095238095  0.013242653  0.904761905  ...   \n",
      "\n",
      "            type  AApos AAbefore AAafter isCCGD CCGDstudies CCGDcancerTypes  \\\n",
      "0     spliceSite    nan      nan     nan  False         0.0             nan   \n",
      "1  nonsynonymous   61.0        C       W  False         0.0             nan   \n",
      "2  nonsynonymous  631.0        P       L  False         0.0             nan   \n",
      "3  nonsynonymous  218.0        L       I   True         1.0    Colorectal:1   \n",
      "4       nonsense   78.0        K       *  False         0.0             nan   \n",
      "\n",
      "  CCGDcosmic CCGDcgc                     CCGDranks  \n",
      "0        nan     nan                           nan  \n",
      "1        nan     nan                           nan  \n",
      "2        nan     nan                           nan  \n",
      "3         no      no  A:0;B:0;C:0;D:0;Not Ranked:1  \n",
      "4        nan     nan                           nan  \n",
      "\n",
      "[5 rows x 21 columns]\n"
     ]
    }
   ],
   "source": [
    "import pandas as pd\n",
    "\n",
    "# Load the CSV file\n",
    "file_path = \"/bgfs/alee/LO_LAB/Personal/Daisong/CPT6/Superfreq/subclone/CPT6-river.csv\"\n",
    "df = pd.read_csv(file_path)\n",
    "\n",
    "# Step 1: Keep only rows where clone == 1 (excluding the header row from processing)\n",
    "df_filtered = df[df['clone'] == '3']\n",
    "\n",
    "# Step 2: Keep only rows with specific mutation types\n",
    "mutation_types = [\"nonsynonymous\", \"spliceSite\", \"nonsense\", \"frameshift\"]\n",
    "df_filtered = df_filtered[df_filtered['type'].isin(mutation_types)]\n",
    "\n",
    "# Step 3: Extract gene names before \"(\" and merge rows with the same gene name\n",
    "df_filtered['gene_name'] = df_filtered['name'].str.extract(r'(\\w+)')  # Extracts gene name before \"(\"\n",
    "df_filtered = df_filtered.groupby('gene_name', as_index=False).agg(lambda x: ', '.join(x.astype(str)))\n",
    "\n",
    "# Step 4: Remove genes that start with \"Gm\" or end with \"Rik\"\n",
    "df_filtered = df_filtered[~df_filtered['gene_name'].str.startswith(\"Gm\", na=False)]\n",
    "df_filtered = df_filtered[~df_filtered['gene_name'].str.endswith(\"Rik\", na=False)]\n",
    "\n",
    "# Step 5: Save the filtered results\n",
    "output_path = \"/bgfs/alee/LO_LAB/Personal/Daisong/CPT6/Superfreq/subclone/subclone3.csv\"\n",
    "df_filtered.to_csv(output_path, index=False)\n",
    "\n",
    "print(df_filtered.head())\n"
   ]
  },
  {
   "cell_type": "code",
   "execution_count": 1,
   "id": "71943d34-c3d1-45d9-84f4-69bd94b197a9",
   "metadata": {
    "tags": []
   },
   "outputs": [],
   "source": [
    "def check_for_gene(dict, gene):\n",
    "    # Step 1: Combine all dataframes into a single dataframe\n",
    "    combined_df = pd.concat(dict.values(), keys=dict.keys(), names=['Sample'])\n",
    "    combined_df = combined_df.reset_index(level='Sample')\n",
    "    \n",
    "    # Step 2: Filter for oncogenes\n",
    "    all_genes = combined_df['Gene Symbol'].unique()\n",
    "\n",
    "    return gene in all_genes"
   ]
  },
  {
   "cell_type": "code",
   "execution_count": 2,
   "id": "d205ab73-5b9c-4f3c-a100-9690b259d014",
   "metadata": {
    "tags": []
   },
   "outputs": [],
   "source": [
    "import pandas as pd\n",
    "\n",
    "def read_vep_output(file_path):\n",
    "    with open(file_path, 'r') as file:\n",
    "        # Skip lines until the header is found\n",
    "        for line in file:\n",
    "            if line.startswith('#') and not line.startswith('##'):\n",
    "                header = line[1:].strip().split('\\t')  # Remove '#' and split the header\n",
    "                break\n",
    "\n",
    "    # Read the file into a pandas DataFrame, using the header found above\n",
    "    df = pd.read_csv(file_path, comment='#', sep='\\t', names=header, header=None)\n",
    "    \n",
    "\n",
    "    return df"
   ]
  },
  {
   "cell_type": "code",
   "execution_count": 3,
   "id": "e651878c-cde4-4010-b613-83642710c27f",
   "metadata": {
    "tags": []
   },
   "outputs": [
    {
     "data": {
      "text/plain": [
       "{'filtered_tumor_vs_liver': (372133, 14)}"
      ]
     },
     "execution_count": 3,
     "metadata": {},
     "output_type": "execute_result"
    }
   ],
   "source": [
    "import os\n",
    "\n",
    "folder_path = '/bgfs/alee/LO_LAB/Personal/Daisong/CPT6/Mutect2/tumor_vs_liver_maf'\n",
    "\n",
    "\n",
    "dataframe_dict = {}\n",
    "\n",
    "original_shapes = {}\n",
    "\n",
    "for subfolder in os.listdir(folder_path):\n",
    "    if subfolder.endswith('liver'):\n",
    "        vep_path = os.path.join(folder_path, subfolder, subfolder + \".mutect2.txt\")\n",
    "        vep_df = read_vep_output(vep_path)\n",
    "        dataframe_dict[subfolder] = vep_df\n",
    "        original_shapes[subfolder] = vep_df.shape\n",
    "    else:\n",
    "        continue\n",
    "\n",
    "original_shapes"
   ]
  },
  {
   "cell_type": "code",
   "execution_count": 4,
   "id": "b020ca4b-074f-4815-8b65-4522b20e6f33",
   "metadata": {
    "tags": []
   },
   "outputs": [],
   "source": [
    "def filter_vep_output(df):\n",
    "    # Ensure the columns 'Gene' and 'Extra' exist in the DataFrame\n",
    "    if 'Gene' not in df.columns or 'Extra' not in df.columns:\n",
    "        raise ValueError(\"DataFrame must contain 'Gene' and 'Extra' columns.\")\n",
    "    \n",
    "    # Filter for gene IDs that start with 'ENS'\n",
    "    ens_filter = df['Gene'].str.startswith('ENS')\n",
    "    \n",
    "    # Filter for 'Extra' column containing 'IMPACT=HIGH' or 'IMPACT=MODERATE'\n",
    "    high_impact_filter = df['Extra'].str.contains('IMPACT=HIGH')\n",
    "    moderate_impact_filter = df['Extra'].str.contains('IMPACT=MODERATE')\n",
    "    \n",
    "    # Combine filters with correct grouping\n",
    "    filtered_df = df[ens_filter & (high_impact_filter | moderate_impact_filter)]\n",
    "    # filtered_df = df[ens_filter]\n",
    "    \n",
    "    return filtered_df\n"
   ]
  },
  {
   "cell_type": "code",
   "execution_count": 5,
   "id": "19b5f697-09c0-408a-b8bc-1e8669287e58",
   "metadata": {
    "tags": []
   },
   "outputs": [
    {
     "name": "stdout",
     "output_type": "stream",
     "text": [
      "{'filtered_tumor_vs_liver': (2130, 14)}\n"
     ]
    }
   ],
   "source": [
    "filtered_dataframe_dict = {}\n",
    "filtered_shapes = {}\n",
    "\n",
    "for key, item in dataframe_dict.items():\n",
    "    filtered_df = filter_vep_output(item)\n",
    "    filtered_dataframe_dict[key] = filtered_df\n",
    "    filtered_shapes[key] = filtered_df.shape\n",
    "\n",
    "print(filtered_shapes)\n"
   ]
  },
  {
   "cell_type": "code",
   "execution_count": 6,
   "id": "41f0f6e7-a048-4456-8764-04a20bdd6b80",
   "metadata": {
    "tags": []
   },
   "outputs": [
    {
     "name": "stdout",
     "output_type": "stream",
     "text": [
      "No matches found in filtered_tumor_vs_liver\n"
     ]
    }
   ],
   "source": [
    "gene = \"ENSMUSG00000019768\" #ESR1\n",
    "column = \"Gene\"\n",
    "\n",
    "for key, df in filtered_dataframe_dict.items():\n",
    "    # Subset the dataframe to rows where the \"Gene\" column matches the requested gene\n",
    "    subset = df.loc[df[column] == gene]\n",
    "    \n",
    "    # Check if there are any matching rows\n",
    "    if not subset.empty:\n",
    "        print(f\"Matches found in {key}:\")\n",
    "        print(subset)\n",
    "    else:\n",
    "        print(f\"No matches found in {key}\")"
   ]
  },
  {
   "cell_type": "code",
   "execution_count": 7,
   "id": "155990d5-4d0b-46e5-a3bc-f0c3855a9ed8",
   "metadata": {
    "tags": []
   },
   "outputs": [],
   "source": [
    "from pybiomart import Dataset\n",
    "import pandas as pd\n",
    "\n",
    "def find_homologs(gene_ids):\n",
    "    try:\n",
    "        # Load the Ensembl dataset for mouse genes\n",
    "        mouse_dataset = Dataset(name='mmusculus_gene_ensembl', host='http://www.ensembl.org')\n",
    "        # print(mouse_dataset.head(10))\n",
    "        \n",
    "        # Query the dataset for homologs of the rat gene using 'gene_id' filter\n",
    "        result = mouse_dataset.query(attributes=[\n",
    "            'ensembl_gene_id', \n",
    "            'hsapiens_homolog_ensembl_gene'\n",
    "        ], filters={'link_ensembl_gene_id': gene_ids})\n",
    "       \n",
    "        # If no homologs are found, return an empty DataFrame\n",
    "        if not result.empty:\n",
    "            return result\n",
    "        else:\n",
    "            print(\"result empty\")\n",
    "            return pd.DataFrame()  # Return empty DataFrame if no results found\n",
    "     \n",
    "    except Exception as e:\n",
    "        print(f\"Error finding homologs: {e}\")\n",
    "        return pd.DataFrame()  # Return empty DataFrame in case of an error"
   ]
  },
  {
   "cell_type": "code",
   "execution_count": 8,
   "id": "f99214e8-9281-4696-a3bd-5415e9a969ee",
   "metadata": {
    "tags": []
   },
   "outputs": [],
   "source": [
    "import sys\n",
    "\n",
    "\n",
    "def chunk_list(lst, chunk_size):\n",
    "    \"\"\"Yield successive n-sized chunks from lst.\"\"\"\n",
    "    for i in range(0, len(lst), chunk_size):\n",
    "        yield lst[i:i + chunk_size]\n",
    "\n",
    "\n",
    "homolog_dict = {}\n",
    "\n",
    "for key, item in filtered_dataframe_dict.items():\n",
    "    gene_ids = item[\"Gene\"].tolist()\n",
    "\n",
    "    \n",
    "    # Initialize an empty dataframe to store the results\n",
    "    all_results = pd.DataFrame()\n",
    "\n",
    "    # Process each chunk of gene_ids\n",
    "    for chunk in chunk_list(gene_ids, 200):\n",
    "        results = find_homologs(chunk)\n",
    "        all_results = pd.concat([all_results, results], ignore_index=True)\n",
    "    \n",
    "    # Merge the dataframes on the gene identifiers\n",
    "    item = item.merge(all_results, left_on='Gene', right_on='Gene stable ID', how='left')\n",
    "    \n",
    "    # Rename the columns to match your desired output\n",
    "    item.rename(columns={'Human gene stable ID': 'Homologs'}, inplace=True)\n",
    "    \n",
    "    # Drop the extra column if you don't need it\n",
    "    item.drop(columns=['Gene stable ID'], inplace=True)\n",
    "\n",
    "\n",
    "    item = item[item['Homologs'].notna()]\n",
    "    homolog_dict[key] = item\n",
    "\n"
   ]
  },
  {
   "cell_type": "code",
   "execution_count": 9,
   "id": "96b63fa6-b1a7-4dce-8486-f264cff5b7ae",
   "metadata": {
    "tags": []
   },
   "outputs": [],
   "source": [
    "from pybiomart import Dataset\n",
    "\n",
    "def find_symbols(ensembl_ids):\n",
    "    try:\n",
    "        # Load the Ensembl dataset for human genes\n",
    "\n",
    "        dataset = Dataset(name='hsapiens_gene_ensembl', host='http://useast.ensembl.org')\n",
    "        result = dataset.query(attributes=['ensembl_gene_id','external_gene_name', ],\n",
    "                              filters={'link_ensembl_gene_id': ensembl_ids})\n",
    "\n",
    "        # Extract the homolog gene IDs if they exist\n",
    "        if not result.empty:\n",
    "            return result\n",
    "    except Exception as e:\n",
    "        print(f\"Error finding GeneSymbols for {ensembl_ids}: {e}\")\n",
    "    return ensembl_ids, None\n",
    "\n"
   ]
  },
  {
   "cell_type": "code",
   "execution_count": 10,
   "id": "bc27c778-940e-4099-bf1f-55a5e455c947",
   "metadata": {
    "tags": []
   },
   "outputs": [],
   "source": [
    "import sys\n",
    "\n",
    "def chunk_list(lst, chunk_size):\n",
    "    \"\"\"Yield successive n-sized chunks from lst.\"\"\"\n",
    "    for i in range(0, len(lst), chunk_size):\n",
    "        yield lst[i:i + chunk_size]\n",
    "\n",
    "symbol_dict = {}\n",
    "\n",
    "for key, item in homolog_dict.items():\n",
    "    ensembl_ids = item[\"Homologs\"].tolist()\n",
    "\n",
    "\n",
    "    # Initialize an empty dataframe to store the results\n",
    "    all_results = pd.DataFrame()\n",
    "\n",
    "    # Process each chunk of gene_ids\n",
    "    for chunk in chunk_list(ensembl_ids, 200):\n",
    "        results = find_symbols(chunk)\n",
    "        all_results = pd.concat([all_results, results], ignore_index=True)\n",
    "    \n",
    "    # Merge the dataframes on the gene identifiers\n",
    "    item = item.merge(all_results, left_on='Homologs', right_on='Gene stable ID', how='left')\n",
    "    \n",
    "    # Rename the columns to match your desired output\n",
    "    item.rename(columns={'Gene name': 'Gene Symbol'}, inplace=True)\n",
    "\n",
    "    # Drop the extra column if you don't need it\n",
    "    item.drop(columns=['Gene stable ID'], inplace=True)\n",
    "\n",
    "\n",
    "    item = item[item['Gene Symbol'].notna()]\n",
    "    symbol_dict[key] = item\n"
   ]
  },
  {
   "cell_type": "code",
   "execution_count": 11,
   "id": "a5d6a2a4-d265-4979-a457-06f21606eb5b",
   "metadata": {
    "scrolled": true,
    "tags": []
   },
   "outputs": [
    {
     "name": "stdout",
     "output_type": "stream",
     "text": [
      "{'filtered_tumor_vs_liver':                                      Uploaded_variation  \\\n",
      "0                     10_7473269_-/ACAGACAGACAGACAGACAG   \n",
      "1                     10_7473269_-/ACAGACAGACAGACAGACAG   \n",
      "2                     10_7473269_-/ACAGACAGACAGACAGACAG   \n",
      "3                     10_7473269_-/ACAGACAGACAGACAGACAG   \n",
      "4                     10_7473269_-/ACAGACAGACAGACAGACAG   \n",
      "...                                                 ...   \n",
      "1917  X_153153310_-/AATAACTTTGCATCTGATGTCAATGAGTTAGT...   \n",
      "1918                                  X_153499477_ACC/-   \n",
      "1919                                  X_159414733_GGC/-   \n",
      "1920                                  X_159988452_GCG/-   \n",
      "1921                                    X_164423401_-/T   \n",
      "\n",
      "                   Location  \\\n",
      "0        10:7473268-7473269   \n",
      "1        10:7473268-7473269   \n",
      "2        10:7473268-7473269   \n",
      "3        10:7473268-7473269   \n",
      "4        10:7473268-7473269   \n",
      "...                     ...   \n",
      "1917  X:153153309-153153310   \n",
      "1918  X:153499477-153499479   \n",
      "1919  X:159414733-159414735   \n",
      "1920  X:159988452-159988454   \n",
      "1921  X:164423400-164423401   \n",
      "\n",
      "                                                 Allele                Gene  \\\n",
      "0                                  ACAGACAGACAGACAGACAG  ENSMUSG00000079685   \n",
      "1                                  ACAGACAGACAGACAGACAG  ENSMUSG00000079685   \n",
      "2                                  ACAGACAGACAGACAGACAG  ENSMUSG00000079685   \n",
      "3                                  ACAGACAGACAGACAGACAG  ENSMUSG00000079685   \n",
      "4                                  ACAGACAGACAGACAGACAG  ENSMUSG00000079685   \n",
      "...                                                 ...                 ...   \n",
      "1917  AATAACTTTGCATCTGATGTCAATGAGTTAGTCAATACTTTTATAT...  ENSMUSG00000041658   \n",
      "1918                                                  -  ENSMUSG00000050148   \n",
      "1919                                                  -  ENSMUSG00000041020   \n",
      "1920                                                  -  ENSMUSG00000031303   \n",
      "1921                                                  T  ENSMUSG00000031381   \n",
      "\n",
      "                 Feature Feature_type  \\\n",
      "0     ENSMUST00000169796   Transcript   \n",
      "1     ENSMUST00000169796   Transcript   \n",
      "2     ENSMUST00000169796   Transcript   \n",
      "3     ENSMUST00000169796   Transcript   \n",
      "4     ENSMUST00000169796   Transcript   \n",
      "...                  ...          ...   \n",
      "1917  ENSMUST00000039720   Transcript   \n",
      "1918  ENSMUST00000060714   Transcript   \n",
      "1919  ENSMUST00000112471   Transcript   \n",
      "1920  ENSMUST00000033665   Transcript   \n",
      "1921  ENSMUST00000151911   Transcript   \n",
      "\n",
      "                                    Consequence cDNA_position CDS_position  \\\n",
      "0                            frameshift_variant         73-74        73-74   \n",
      "1                            frameshift_variant         73-74        73-74   \n",
      "2                            frameshift_variant         73-74        73-74   \n",
      "3                            frameshift_variant         73-74        73-74   \n",
      "4                            frameshift_variant         73-74        73-74   \n",
      "...                                         ...           ...          ...   \n",
      "1917                                stop_gained     1059-1060      556-557   \n",
      "1918                           inframe_deletion     1251-1253    1024-1026   \n",
      "1919                           inframe_deletion       162-164        37-39   \n",
      "1920                           inframe_deletion         20-22        20-22   \n",
      "1921  frameshift_variant,NMD_transcript_variant       871-872      755-756   \n",
      "\n",
      "     Protein_position                      Amino_acids  \\\n",
      "0                  25                       C/SVCLSVCX   \n",
      "1                  25                       C/SVCLSVCX   \n",
      "2                  25                       C/SVCLSVCX   \n",
      "3                  25                       C/SVCLSVCX   \n",
      "4                  25                       C/SVCLSVCX   \n",
      "...               ...                              ...   \n",
      "1917              186  L/**LCI*CQ*VSQYFYI*VSA*LSLLFYPL   \n",
      "1918              342                              T/-   \n",
      "1919               13                              G/-   \n",
      "1920              7-8                             SG/S   \n",
      "1921              252                             C/CX   \n",
      "\n",
      "                                                 Codons Existing_variation  \\\n",
      "0                           tgt/tCTGTCTGTCTGTCTGTCTGTgt                  -   \n",
      "1                           tgt/tCTGTCTGTCTGTCTGTCTGTgt                  -   \n",
      "2                           tgt/tCTGTCTGTCTGTCTGTCTGTgt                  -   \n",
      "3                           tgt/tCTGTCTGTCTGTCTGTCTGTgt                  -   \n",
      "4                           tgt/tCTGTCTGTCTGTCTGTCTGTgt                  -   \n",
      "...                                                 ...                ...   \n",
      "1917  ttg/tAATAACTTTGCATCTGATGTCAATGAGTTAGTCAATACTTT...                  -   \n",
      "1918                                              ACC/-                  -   \n",
      "1919                                              GGC/-                  -   \n",
      "1920                                         aGCGgc/agc                  -   \n",
      "1921                                           tgt/tgTt                  -   \n",
      "\n",
      "                                        Extra         Homologs Gene Symbol  \n",
      "0        IMPACT=HIGH;STRAND=-1;SOURCE=Ensembl  ENSG00000131019       ULBP3  \n",
      "1        IMPACT=HIGH;STRAND=-1;SOURCE=Ensembl  ENSG00000131015       ULBP2  \n",
      "2        IMPACT=HIGH;STRAND=-1;SOURCE=Ensembl  ENSG00000111981       ULBP1  \n",
      "3        IMPACT=HIGH;STRAND=-1;SOURCE=Ensembl  ENSG00000203722      RAET1G  \n",
      "4        IMPACT=HIGH;STRAND=-1;SOURCE=Ensembl  ENSG00000164520      RAET1E  \n",
      "...                                       ...              ...         ...  \n",
      "1917      IMPACT=HIGH;STRAND=1;SOURCE=Ensembl  ENSG00000083750       RRAGB  \n",
      "1918  IMPACT=MODERATE;STRAND=1;SOURCE=Ensembl  ENSG00000188021      UBQLN2  \n",
      "1919  IMPACT=MODERATE;STRAND=1;SOURCE=Ensembl  ENSG00000184368      MAP7D2  \n",
      "1920  IMPACT=MODERATE;STRAND=1;SOURCE=Ensembl  ENSG00000180815     MAP3K15  \n",
      "1921      IMPACT=HIGH;STRAND=1;SOURCE=Ensembl  ENSG00000165195        PIGA  \n",
      "\n",
      "[1922 rows x 16 columns]}\n"
     ]
    }
   ],
   "source": [
    "print(symbol_dict)"
   ]
  },
  {
   "cell_type": "code",
   "execution_count": 53,
   "id": "71252d5e-4221-460f-9a8a-a40172ccdd63",
   "metadata": {
    "tags": []
   },
   "outputs": [
    {
     "name": "stdout",
     "output_type": "stream",
     "text": [
      "Matches found in filtered_tumor_vs_liver:\n",
      "          Uploaded_variation              Location Allele                Gene  \\\n",
      "543        19_26631011_-/CAA  19:26631010-26631011    CAA  ENSMUSG00000024921   \n",
      "544        19_26631011_-/CAA  19:26631010-26631011    CAA  ENSMUSG00000024921   \n",
      "545        19_26631011_-/CAA  19:26631010-26631011    CAA  ENSMUSG00000024921   \n",
      "546        19_26631011_-/CAA  19:26631010-26631011    CAA  ENSMUSG00000024921   \n",
      "547        19_26631011_-/CAA  19:26631010-26631011    CAA  ENSMUSG00000024921   \n",
      "548        19_26631014_-/CAA  19:26631013-26631014    CAA  ENSMUSG00000024921   \n",
      "549        19_26631014_-/CAA  19:26631013-26631014    CAA  ENSMUSG00000024921   \n",
      "550        19_26631014_-/CAA  19:26631013-26631014    CAA  ENSMUSG00000024921   \n",
      "551        19_26631014_-/CAA  19:26631013-26631014    CAA  ENSMUSG00000024921   \n",
      "552        19_26631014_-/CAA  19:26631013-26631014    CAA  ENSMUSG00000024921   \n",
      "553  19_26631018_AA/CC/AGCCA  19:26631018-26631019     CC  ENSMUSG00000024921   \n",
      "554  19_26631018_AA/CC/AGCCA  19:26631018-26631019  AGCCA  ENSMUSG00000024921   \n",
      "555  19_26631018_AA/CC/AGCCA  19:26631018-26631019     CC  ENSMUSG00000024921   \n",
      "556  19_26631018_AA/CC/AGCCA  19:26631018-26631019  AGCCA  ENSMUSG00000024921   \n",
      "557  19_26631018_AA/CC/AGCCA  19:26631018-26631019     CC  ENSMUSG00000024921   \n",
      "558  19_26631018_AA/CC/AGCCA  19:26631018-26631019  AGCCA  ENSMUSG00000024921   \n",
      "559  19_26631018_AA/CC/AGCCA  19:26631018-26631019     CC  ENSMUSG00000024921   \n",
      "560  19_26631018_AA/CC/AGCCA  19:26631018-26631019  AGCCA  ENSMUSG00000024921   \n",
      "561  19_26631018_AA/CC/AGCCA  19:26631018-26631019     CC  ENSMUSG00000024921   \n",
      "562  19_26631018_AA/CC/AGCCA  19:26631018-26631019  AGCCA  ENSMUSG00000024921   \n",
      "563          19_26631019_A/C           19:26631019      C  ENSMUSG00000024921   \n",
      "564          19_26631019_A/C           19:26631019      C  ENSMUSG00000024921   \n",
      "565          19_26631019_A/C           19:26631019      C  ENSMUSG00000024921   \n",
      "566          19_26631019_A/C           19:26631019      C  ENSMUSG00000024921   \n",
      "567          19_26631019_A/C           19:26631019      C  ENSMUSG00000024921   \n",
      "\n",
      "                Feature Feature_type  \\\n",
      "543  ENSMUST00000025862   Transcript   \n",
      "544  ENSMUST00000099537   Transcript   \n",
      "545  ENSMUST00000176030   Transcript   \n",
      "546  ENSMUST00000176584   Transcript   \n",
      "547  ENSMUST00000176769   Transcript   \n",
      "548  ENSMUST00000025862   Transcript   \n",
      "549  ENSMUST00000099537   Transcript   \n",
      "550  ENSMUST00000176030   Transcript   \n",
      "551  ENSMUST00000176584   Transcript   \n",
      "552  ENSMUST00000176769   Transcript   \n",
      "553  ENSMUST00000025862   Transcript   \n",
      "554  ENSMUST00000025862   Transcript   \n",
      "555  ENSMUST00000099537   Transcript   \n",
      "556  ENSMUST00000099537   Transcript   \n",
      "557  ENSMUST00000176030   Transcript   \n",
      "558  ENSMUST00000176030   Transcript   \n",
      "559  ENSMUST00000176584   Transcript   \n",
      "560  ENSMUST00000176584   Transcript   \n",
      "561  ENSMUST00000176769   Transcript   \n",
      "562  ENSMUST00000176769   Transcript   \n",
      "563  ENSMUST00000025862   Transcript   \n",
      "564  ENSMUST00000099537   Transcript   \n",
      "565  ENSMUST00000176030   Transcript   \n",
      "566  ENSMUST00000176584   Transcript   \n",
      "567  ENSMUST00000176769   Transcript   \n",
      "\n",
      "                                  Consequence cDNA_position CDS_position  \\\n",
      "543                         inframe_insertion       914-915      696-697   \n",
      "544  inframe_insertion,NMD_transcript_variant     1006-1007      696-697   \n",
      "545                         inframe_insertion       847-848      696-697   \n",
      "546                         inframe_insertion       593-594      468-469   \n",
      "547                         inframe_insertion       916-917      696-697   \n",
      "548                         inframe_insertion       917-918      699-700   \n",
      "549  inframe_insertion,NMD_transcript_variant     1009-1010      699-700   \n",
      "550                         inframe_insertion       850-851      699-700   \n",
      "551                         inframe_insertion       596-597      471-472   \n",
      "552                         inframe_insertion       919-920      699-700   \n",
      "553                          missense_variant       922-923      704-705   \n",
      "554                         inframe_insertion       922-923      704-705   \n",
      "555   missense_variant,NMD_transcript_variant     1014-1015      704-705   \n",
      "556  inframe_insertion,NMD_transcript_variant     1014-1015      704-705   \n",
      "557                          missense_variant       855-856      704-705   \n",
      "558                         inframe_insertion       855-856      704-705   \n",
      "559                          missense_variant       601-602      476-477   \n",
      "560                         inframe_insertion       601-602      476-477   \n",
      "561                          missense_variant       924-925      704-705   \n",
      "562                         inframe_insertion       924-925      704-705   \n",
      "563                          missense_variant           923          705   \n",
      "564   missense_variant,NMD_transcript_variant          1015          705   \n",
      "565                          missense_variant           856          705   \n",
      "566                          missense_variant           602          477   \n",
      "567                          missense_variant           925          705   \n",
      "\n",
      "    Protein_position Amino_acids      Codons Existing_variation  \\\n",
      "543          232-233         -/Q       -/CAA                  -   \n",
      "544          232-233         -/Q       -/CAA                  -   \n",
      "545          232-233         -/Q       -/CAA                  -   \n",
      "546          156-157         -/Q       -/CAA                  -   \n",
      "547          232-233         -/Q       -/CAA                  -   \n",
      "548          233-234         -/Q       -/CAA                  -   \n",
      "549          233-234         -/Q       -/CAA                  -   \n",
      "550          233-234         -/Q       -/CAA                  -   \n",
      "551          157-158         -/Q       -/CAA                  -   \n",
      "552          233-234         -/Q       -/CAA                  -   \n",
      "553              235         Q/P     cAA/cCC                  -   \n",
      "554              235        Q/QP  cAA/cAGCCA                  -   \n",
      "555              235         Q/P     cAA/cCC                  -   \n",
      "556              235        Q/QP  cAA/cAGCCA                  -   \n",
      "557              235         Q/P     cAA/cCC                  -   \n",
      "558              235        Q/QP  cAA/cAGCCA                  -   \n",
      "559              159         Q/P     cAA/cCC                  -   \n",
      "560              159        Q/QP  cAA/cAGCCA                  -   \n",
      "561              235         Q/P     cAA/cCC                  -   \n",
      "562              235        Q/QP  cAA/cAGCCA                  -   \n",
      "563              235         Q/H     caA/caC                  -   \n",
      "564              235         Q/H     caA/caC                  -   \n",
      "565              235         Q/H     caA/caC                  -   \n",
      "566              159         Q/H     caA/caC                  -   \n",
      "567              235         Q/H     caA/caC                  -   \n",
      "\n",
      "                                                 Extra         Homologs  \\\n",
      "543            IMPACT=MODERATE;STRAND=1;SOURCE=Ensembl  ENSG00000080503   \n",
      "544            IMPACT=MODERATE;STRAND=1;SOURCE=Ensembl  ENSG00000080503   \n",
      "545            IMPACT=MODERATE;STRAND=1;SOURCE=Ensembl  ENSG00000080503   \n",
      "546  IMPACT=MODERATE;STRAND=1;FLAGS=cds_end_NF;SOUR...  ENSG00000080503   \n",
      "547            IMPACT=MODERATE;STRAND=1;SOURCE=Ensembl  ENSG00000080503   \n",
      "548            IMPACT=MODERATE;STRAND=1;SOURCE=Ensembl  ENSG00000080503   \n",
      "549            IMPACT=MODERATE;STRAND=1;SOURCE=Ensembl  ENSG00000080503   \n",
      "550            IMPACT=MODERATE;STRAND=1;SOURCE=Ensembl  ENSG00000080503   \n",
      "551  IMPACT=MODERATE;STRAND=1;FLAGS=cds_end_NF;SOUR...  ENSG00000080503   \n",
      "552            IMPACT=MODERATE;STRAND=1;SOURCE=Ensembl  ENSG00000080503   \n",
      "553            IMPACT=MODERATE;STRAND=1;SOURCE=Ensembl  ENSG00000080503   \n",
      "554            IMPACT=MODERATE;STRAND=1;SOURCE=Ensembl  ENSG00000080503   \n",
      "555            IMPACT=MODERATE;STRAND=1;SOURCE=Ensembl  ENSG00000080503   \n",
      "556            IMPACT=MODERATE;STRAND=1;SOURCE=Ensembl  ENSG00000080503   \n",
      "557            IMPACT=MODERATE;STRAND=1;SOURCE=Ensembl  ENSG00000080503   \n",
      "558            IMPACT=MODERATE;STRAND=1;SOURCE=Ensembl  ENSG00000080503   \n",
      "559  IMPACT=MODERATE;STRAND=1;FLAGS=cds_end_NF;SOUR...  ENSG00000080503   \n",
      "560  IMPACT=MODERATE;STRAND=1;FLAGS=cds_end_NF;SOUR...  ENSG00000080503   \n",
      "561            IMPACT=MODERATE;STRAND=1;SOURCE=Ensembl  ENSG00000080503   \n",
      "562            IMPACT=MODERATE;STRAND=1;SOURCE=Ensembl  ENSG00000080503   \n",
      "563            IMPACT=MODERATE;STRAND=1;SOURCE=Ensembl  ENSG00000080503   \n",
      "564            IMPACT=MODERATE;STRAND=1;SOURCE=Ensembl  ENSG00000080503   \n",
      "565            IMPACT=MODERATE;STRAND=1;SOURCE=Ensembl  ENSG00000080503   \n",
      "566  IMPACT=MODERATE;STRAND=1;FLAGS=cds_end_NF;SOUR...  ENSG00000080503   \n",
      "567            IMPACT=MODERATE;STRAND=1;SOURCE=Ensembl  ENSG00000080503   \n",
      "\n",
      "    Gene Symbol  \n",
      "543     SMARCA2  \n",
      "544     SMARCA2  \n",
      "545     SMARCA2  \n",
      "546     SMARCA2  \n",
      "547     SMARCA2  \n",
      "548     SMARCA2  \n",
      "549     SMARCA2  \n",
      "550     SMARCA2  \n",
      "551     SMARCA2  \n",
      "552     SMARCA2  \n",
      "553     SMARCA2  \n",
      "554     SMARCA2  \n",
      "555     SMARCA2  \n",
      "556     SMARCA2  \n",
      "557     SMARCA2  \n",
      "558     SMARCA2  \n",
      "559     SMARCA2  \n",
      "560     SMARCA2  \n",
      "561     SMARCA2  \n",
      "562     SMARCA2  \n",
      "563     SMARCA2  \n",
      "564     SMARCA2  \n",
      "565     SMARCA2  \n",
      "566     SMARCA2  \n",
      "567     SMARCA2  \n"
     ]
    }
   ],
   "source": [
    "gene = \"SMARCA2\"\n",
    "column = \"Gene Symbol\"\n",
    "\n",
    "for key, df in symbol_dict.items():\n",
    "    # Subset the dataframe to rows where the \"Gene\" column matches the requested gene\n",
    "    subset = df.loc[df[column] == gene]\n",
    "    \n",
    "    # Check if there are any matching rows\n",
    "    if not subset.empty:\n",
    "        print(f\"Matches found in {key}:\")\n",
    "        print(subset)\n",
    "    else:\n",
    "        print(f\"No matches found in {key}\")\n"
   ]
  },
  {
   "cell_type": "code",
   "execution_count": null,
   "id": "95ceefc3-ae2e-4060-8fa2-f28387bf3b6e",
   "metadata": {},
   "outputs": [],
   "source": [
    "import pandas as pd\n",
    "from gseapy import Biomart\n",
    "\n",
    "# Read the file into a DataFrame\n",
    "mouse_genes_df = pd.read_csv(\"/bgfs/alee/LO_LAB/Personal/Daisong/CPT6/Superfreq/somatic_mutations.txt\", header=None, names=[\"mouse_gene_name\"])\n",
    "\n",
    "# Query Biomart for mouse-to-human gene mapping\n",
    "bm = Biomart(host='useast.ensembl.org')\n",
    "m2h = bm.query(dataset='mmusculus_gene_ensembl', \n",
    "               attributes=['ensembl_gene_id','external_gene_name',\n",
    "                           'hsapiens_homolog_ensembl_gene',\n",
    "                           'hsapiens_homolog_associated_gene_name'])\n",
    "\n",
    "# Convert to DataFrame\n",
    "m2h_df = pd.DataFrame(m2h)\n",
    "\n",
    "# Merge based on external gene name (mouse gene symbol)\n",
    "merged_df = mouse_genes_df.merge(m2h_df, left_on='mouse_gene_name', right_on='external_gene_name', how='left')\n",
    "\n",
    "# Keep only necessary columns\n",
    "human_df = merged_df[['mouse_gene_name', 'hsapiens_homolog_associated_gene_name']]\n",
    "\n",
    "\n",
    "# Save only the human gene column without the header\n",
    "human_df['hsapiens_homolog_associated_gene_name'].dropna().to_csv(\"/bgfs/alee/LO_LAB/Personal/Daisong/CPT6/Superfreq/somatic_mutations_human.txt\", index=False, header=False)\n",
    "\n",
    "\n",
    "# Display the results\n",
    "print(human_df.head())"
   ]
  },
  {
   "cell_type": "code",
   "execution_count": 43,
   "id": "ef5f5a3f-8bf1-4c40-a19a-f366dec46e27",
   "metadata": {
    "tags": []
   },
   "outputs": [
    {
     "name": "stdout",
     "output_type": "stream",
     "text": [
      "  mouse_gene_name\n",
      "0          Abcb11\n",
      "1         Adamts3\n",
      "2           Baz2b\n",
      "3           Cerkl\n",
      "4            Ermn\n",
      "  mouse_gene_name hsapiens_homolog_associated_gene_name\n",
      "0          Abcb11                                ABCB11\n",
      "1         Adamts3                               ADAMTS3\n",
      "2           Baz2b                                 BAZ2B\n",
      "3           Cerkl                                 CERKL\n",
      "4            Ermn                                  ERMN\n"
     ]
    }
   ],
   "source": [
    "import pandas as pd\n",
    "from gseapy import Biomart\n",
    "\n",
    "# Load the CSV file into a DataFrame\n",
    "df = pd.read_csv(\"/bgfs/alee/LO_LAB/Personal/Daisong/CPT6/Superfreq/subclone/subclone2.csv\")\n",
    "\n",
    "# Extract the \"gene_name\" column and rename it\n",
    "mouse_gene_df = df[['gene_name']].copy()\n",
    "mouse_gene_df.columns = ['mouse_gene_name']\n",
    "\n",
    "print(mouse_gene_df.head())\n",
    "\n",
    "# Query Biomart for mouse-to-human gene mapping\n",
    "bm = Biomart(host='useast.ensembl.org')\n",
    "m2h = bm.query(dataset='mmusculus_gene_ensembl', \n",
    "               attributes=['ensembl_gene_id','external_gene_name',\n",
    "                           'hsapiens_homolog_ensembl_gene',\n",
    "                           'hsapiens_homolog_associated_gene_name'])\n",
    "\n",
    "# Convert to DataFrame\n",
    "m2h_df = pd.DataFrame(m2h)\n",
    "\n",
    "# Merge based on external gene name (mouse gene symbol)\n",
    "merged_df = mouse_gene_df.merge(m2h_df, left_on='mouse_gene_name', right_on='external_gene_name', how='left')\n",
    "\n",
    "# Keep only necessary columns\n",
    "human_df = merged_df[['mouse_gene_name', 'hsapiens_homolog_associated_gene_name']]\n",
    "\n",
    "\n",
    "# Save only the human gene column without the header\n",
    "human_df['hsapiens_homolog_associated_gene_name'].dropna().to_csv(\"/bgfs/alee/LO_LAB/Personal/Daisong/CPT6/Superfreq/subclone/human_subclone2.csv\", index=False, header=False)\n",
    "\n",
    "\n",
    "# Display the results\n",
    "print(human_df.head())"
   ]
  },
  {
   "cell_type": "code",
   "execution_count": 44,
   "id": "7782b0f4-b120-401d-b7c7-ddc515ec2de3",
   "metadata": {
    "tags": []
   },
   "outputs": [
    {
     "name": "stdout",
     "output_type": "stream",
     "text": [
      "{}\n"
     ]
    }
   ],
   "source": [
    "import pandas as pd\n",
    "\n",
    "# Create a set of gene names from the human_df column for fast lookup\n",
    "human_genes = set(human_df[\"hsapiens_homolog_associated_gene_name\"])\n",
    "\n",
    "filtered_symbol_dict = {}\n",
    "for key, value in symbol_dict.items():\n",
    "    gene = value[\"Gene Symbol\"]\n",
    "    # If gene is a Series, extract the first element\n",
    "    if isinstance(gene, pd.Series):\n",
    "        gene = gene.iloc[0]\n",
    "    if gene in human_genes:\n",
    "        filtered_symbol_dict[key] = value\n",
    "\n",
    "print(filtered_symbol_dict)\n"
   ]
  },
  {
   "cell_type": "code",
   "execution_count": 45,
   "id": "183feb7b-e292-4e3d-8518-faa647c8e0d6",
   "metadata": {
    "tags": []
   },
   "outputs": [
    {
     "data": {
      "image/png": "[encoded data removed]",
      "text/plain": [
       "<Figure size 1200x500 with 1 Axes>"
      ]
     },
     "metadata": {},
     "output_type": "display_data"
    }
   ],
   "source": [
    "import pandas as pd\n",
    "import matplotlib.pyplot as plt\n",
    "import seaborn as sns\n",
    "import numpy as np\n",
    "from matplotlib.colors import ListedColormap\n",
    "import os\n",
    "from matplotlib import font_manager\n",
    "\n",
    "# Update the font cache and set default font to Arial\n",
    "font_path = '/bgfs/alee/LO_LAB/Personal/Daisong/CPT6/Arial.ttf'\n",
    "font_manager.fontManager.addfont(font_path)\n",
    "plt.rcParams['font.family'] = 'Arial'\n",
    "plt.rcParams['font.size'] = 12\n",
    "\n",
    "# Function to classify genes using the OncoKB database\n",
    "def classify_genes_oncokb(gene_list, oncokb_df):\n",
    "    tsg_list = oncokb_df[oncokb_df['Is Tumor Suppressor Gene'] == 'Yes']['Hugo Symbol'].tolist()\n",
    "    oncogene_list = oncokb_df[oncokb_df['Is Oncogene'] == 'Yes']['Hugo Symbol'].tolist()\n",
    "    tsgs = [gene for gene in gene_list if gene in tsg_list]\n",
    "    oncogenes = [gene for gene in gene_list if gene in oncogene_list]\n",
    "    return tsgs + oncogenes\n",
    "\n",
    "def classify_genes_brca(gene_list, brca_df):\n",
    "    brca_list = brca_df['Gene'].tolist()\n",
    "    genes = [gene for gene in gene_list if gene in brca_list]\n",
    "    return genes\n",
    "\n",
    "MODE = \"ONCOKB\"  # or \"BRCA\"\n",
    "\n",
    "# Ensure symbol_dict is defined\n",
    "if 'symbol_dict' not in globals():\n",
    "    raise ValueError(\"symbol_dict is not defined.\")\n",
    "\n",
    "# Load the OncoKB and BRCA database files\n",
    "oncokb_df = pd.read_csv('/bgfs/alee/LO_LAB/Personal/Daisong/CPT6/cancerGeneList.tsv', sep='\\t')\n",
    "brca_df = pd.read_csv('/bgfs/alee/LO_LAB/Personal/Daisong/CPT6/brca_genelist.csv')\n",
    "\n",
    "# Step 1: Combine all dataframes into a single dataframe\n",
    "combined_df = pd.concat(symbol_dict.values(), keys=symbol_dict.keys(), names=['Sample'])\n",
    "combined_df = combined_df.reset_index(level='Sample')\n",
    "\n",
    "# Check necessary columns\n",
    "if 'Gene Symbol' not in combined_df.columns or 'Extra' not in combined_df.columns:\n",
    "    raise ValueError(\"combined_df must contain 'Gene Symbol' and 'Extra' columns.\")\n",
    "\n",
    "# Step 2: Filter for oncogenes\n",
    "all_genes = combined_df['Gene Symbol'].unique()\n",
    "\n",
    "if MODE == \"ONCOKB\":\n",
    "    oncogenes = classify_genes_oncokb(all_genes, oncokb_df)\n",
    "elif MODE == \"BRCA\":\n",
    "    oncogenes = classify_genes_brca(all_genes, brca_df)\n",
    "\n",
    "combined_df = combined_df[combined_df['Gene Symbol'].isin(oncogenes)]\n",
    "\n",
    "# Filter for subclone genes using human_df\n",
    "# Assuming human_df is already defined with the column \"hsapiens_homolog_associated_gene_name\"\n",
    "human_genes = human_df[\"hsapiens_homolog_associated_gene_name\"].dropna().unique()\n",
    "combined_df = combined_df[combined_df[\"Gene Symbol\"].isin(human_genes)]\n",
    "\n",
    "# Step 3: Prepare data for plotting\n",
    "# Extract IMPACT from the Extra column\n",
    "combined_df['IMPACT'] = combined_df['Extra'].str.extract(r'IMPACT=([^;]+)')\n",
    "\n",
    "# Sort by IMPACT, prioritizing 'HIGH' over 'MODERATE'\n",
    "impact_priority = {'HIGH': 1, 'MODERATE': 2}\n",
    "combined_df['IMPACT_PRIORITY'] = combined_df['IMPACT'].map(impact_priority)\n",
    "combined_df = combined_df.sort_values(by=['Sample', 'Gene Symbol', 'IMPACT_PRIORITY'])\n",
    "\n",
    "# Custom aggregation function to pick the most common consequence for each gene in each sample\n",
    "def most_common_consequence(sub_df):\n",
    "    return sub_df.sort_values(by='IMPACT_PRIORITY').iloc[0]\n",
    "\n",
    "agg_df = combined_df.groupby(['Sample', 'Gene Symbol'], as_index=False, group_keys=False).apply(most_common_consequence)\n",
    "\n",
    "if agg_df.empty:\n",
    "    raise ValueError(\"agg_df is empty. Check your aggregation logic.\")\n",
    "\n",
    "# Create a pivot table with genes as rows and samples as columns\n",
    "plot_data = agg_df.pivot_table(values='Consequence', index='Gene Symbol', columns='Sample', aggfunc='first')\n",
    "plot_data = plot_data.sort_index()\n",
    "\n",
    "# Step 4: Map consequences to numbers for color-coding\n",
    "unique_consequences = combined_df['Consequence'].unique()\n",
    "consequence_map = {cons: i+1 for i, cons in enumerate(unique_consequences)}  # Start numbering at 1\n",
    "plot_data_numeric = plot_data.applymap(lambda x: consequence_map.get(x, 0))  # Use 0 for missing values\n",
    "\n",
    "# Instead of splitting into columns, use the entire dataset for a single-column heatmap\n",
    "num_genes = len(plot_data_numeric)\n",
    "fig_height = max(num_genes * 0.2, 5)  # Adjust the height scaling factor as needed\n",
    "fig, ax = plt.subplots(figsize=(12, fig_height))\n",
    "\n",
    "# Plot the heatmap\n",
    "sns.heatmap(\n",
    "    plot_data_numeric,\n",
    "    cmap=ListedColormap(plt.cm.viridis(np.linspace(0, 1, len(unique_consequences) + 1))),\n",
    "    cbar=False,\n",
    "    ax=ax,\n",
    "    linewidths=0.5\n",
    ")\n",
    "\n",
    "# Customize tick parameters\n",
    "ax.tick_params(axis='y', labelsize=18)\n",
    "ax.tick_params(axis='x', labelsize=12)\n",
    "ax.set_yticklabels(ax.get_yticklabels(), rotation=0, fontsize=20)\n",
    "ax.set_xticklabels(ax.get_xticklabels(), rotation=90, fontsize=12)  # Rotate sample names if needed\n",
    "\n",
    "# Add a legend for the consequences\n",
    "legend_elements = [\n",
    "    plt.Rectangle(\n",
    "        (0, 0), 1, 1,\n",
    "        facecolor=ListedColormap(plt.cm.viridis(np.linspace(0, 1, len(unique_consequences) + 1)))(\n",
    "            consequence_map[cons] / (len(unique_consequences) + 1)\n",
    "        ),\n",
    "        edgecolor='none',\n",
    "        label=cons.replace('_', ' ').title()\n",
    "    )\n",
    "    for cons in unique_consequences\n",
    "]\n",
    "fig.legend(\n",
    "    handles=legend_elements,\n",
    "    title='Consequence',\n",
    "    bbox_to_anchor=(0.5, -0.05),\n",
    "    loc='upper center',\n",
    "    ncol=len(unique_consequences),\n",
    "    prop={'size': 16}\n",
    ")\n",
    "\n",
    "# Add title for the plot\n",
    "fig.suptitle('Oncogene Changes in CPT6', fontsize=28, fontweight='bold')\n",
    "\n",
    "# Adjust spacing\n",
    "plt.subplots_adjust(bottom=0.15, top=0.9)\n",
    "\n",
    "# Save the plot\n",
    "output_dir = \"output_plots\"\n",
    "os.makedirs(output_dir, exist_ok=True)\n",
    "output_file = os.path.join(output_dir, f\"oncoplot_single_{MODE}.png\")\n",
    "plt.savefig(output_file, format='png')\n",
    "\n",
    "plt.show()\n"
   ]
  },
  {
   "cell_type": "code",
   "execution_count": null,
   "id": "564141e1-8a63-4a60-8088-d414f6032b2f",
   "metadata": {},
   "outputs": [],
   "source": []
  }
 ],
 "metadata": {
  "kernelspec": {
   "display_name": "Python 3 (ipykernel)",
   "language": "python",
   "name": "python3"
  },
  "language_info": {
   "codemirror_mode": {
    "name": "ipython",
    "version": 3
   },
   "file_extension": ".py",
   "mimetype": "text/x-python",
   "name": "python",
   "nbconvert_exporter": "python",
   "pygments_lexer": "ipython3",
   "version": "3.11.5"
  }
 },
 "nbformat": 4,
 "nbformat_minor": 5
}
